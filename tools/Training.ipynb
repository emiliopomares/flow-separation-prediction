{
 "cells": [
  {
   "cell_type": "code",
   "execution_count": 1,
   "metadata": {},
   "outputs": [
    {
     "name": "stderr",
     "output_type": "stream",
     "text": [
      "In /home/emilio/.local/lib/python3.6/site-packages/matplotlib/mpl-data/stylelib/_classic_test.mplstyle: \n",
      "The text.latex.preview rcparam was deprecated in Matplotlib 3.3 and will be removed two minor releases later.\n",
      "In /home/emilio/.local/lib/python3.6/site-packages/matplotlib/mpl-data/stylelib/_classic_test.mplstyle: \n",
      "The mathtext.fallback_to_cm rcparam was deprecated in Matplotlib 3.3 and will be removed two minor releases later.\n",
      "In /home/emilio/.local/lib/python3.6/site-packages/matplotlib/mpl-data/stylelib/_classic_test.mplstyle: Support for setting the 'mathtext.fallback_to_cm' rcParam is deprecated since 3.3 and will be removed two minor releases later; use 'mathtext.fallback : 'cm' instead.\n",
      "In /home/emilio/.local/lib/python3.6/site-packages/matplotlib/mpl-data/stylelib/_classic_test.mplstyle: \n",
      "The validate_bool_maybe_none function was deprecated in Matplotlib 3.3 and will be removed two minor releases later.\n",
      "In /home/emilio/.local/lib/python3.6/site-packages/matplotlib/mpl-data/stylelib/_classic_test.mplstyle: \n",
      "The savefig.jpeg_quality rcparam was deprecated in Matplotlib 3.3 and will be removed two minor releases later.\n",
      "In /home/emilio/.local/lib/python3.6/site-packages/matplotlib/mpl-data/stylelib/_classic_test.mplstyle: \n",
      "The keymap.all_axes rcparam was deprecated in Matplotlib 3.3 and will be removed two minor releases later.\n",
      "In /home/emilio/.local/lib/python3.6/site-packages/matplotlib/mpl-data/stylelib/_classic_test.mplstyle: \n",
      "The animation.avconv_path rcparam was deprecated in Matplotlib 3.3 and will be removed two minor releases later.\n",
      "In /home/emilio/.local/lib/python3.6/site-packages/matplotlib/mpl-data/stylelib/_classic_test.mplstyle: \n",
      "The animation.avconv_args rcparam was deprecated in Matplotlib 3.3 and will be removed two minor releases later.\n"
     ]
    }
   ],
   "source": [
    "# imports\n",
    "\n",
    "import numpy as np\n",
    "import xgboost as xgb\n",
    "import pandas as pd\n",
    "from sklearn.model_selection import train_test_split\n",
    "from sklearn.model_selection import KFold\n",
    "from sklearn.metrics import accuracy_score\n",
    "from sklearn import neighbors\n",
    "import matplotlib.pyplot as plt\n",
    "import numpy as np"
   ]
  },
  {
   "cell_type": "code",
   "execution_count": 2,
   "metadata": {},
   "outputs": [],
   "source": [
    "from machine_learning.dataset.dataset_2200 import dataset"
   ]
  },
  {
   "cell_type": "code",
   "execution_count": 3,
   "metadata": {},
   "outputs": [
    {
     "name": "stdout",
     "output_type": "stream",
     "text": [
      "1552\n"
     ]
    }
   ],
   "source": [
    "print(len(dataset))\n",
    "dataset_size = len(dataset)"
   ]
  },
  {
   "cell_type": "code",
   "execution_count": 4,
   "metadata": {},
   "outputs": [],
   "source": [
    "def acc(y, yhat):\n",
    "    return np.mean((y-yhat)**2)"
   ]
  },
  {
   "cell_type": "code",
   "execution_count": 5,
   "metadata": {},
   "outputs": [],
   "source": [
    "def L1loss(y, yhat):\n",
    "    return np.mean(np.abs((y-yhat)))"
   ]
  },
  {
   "cell_type": "code",
   "execution_count": 6,
   "metadata": {},
   "outputs": [],
   "source": [
    "def loss(y, yhat):\n",
    "    return np.sqrt(np.mean((y-yhat)**2))"
   ]
  },
  {
   "cell_type": "code",
   "execution_count": 7,
   "metadata": {},
   "outputs": [],
   "source": [
    "def separates(sep_point):\n",
    "    if sep_point == 1.0:\n",
    "        return 0\n",
    "    else:\n",
    "        return 1"
   ]
  },
  {
   "cell_type": "code",
   "execution_count": 8,
   "metadata": {},
   "outputs": [],
   "source": [
    "clean_X = np.array(list(map(lambda x: [x[1], x[2]], dataset)))"
   ]
  },
  {
   "cell_type": "code",
   "execution_count": 9,
   "metadata": {},
   "outputs": [],
   "source": [
    "clean_y = np.array(list(map(lambda x: x[6], dataset)))"
   ]
  },
  {
   "cell_type": "markdown",
   "metadata": {},
   "source": [
    "k-folding XGBOOST:"
   ]
  },
  {
   "cell_type": "code",
   "execution_count": 10,
   "metadata": {},
   "outputs": [
    {
     "name": "stdout",
     "output_type": "stream",
     "text": [
      "[08:38:29] WARNING: /workspace/src/objective/regression_obj.cu:152: reg:linear is now deprecated in favor of reg:squarederror.\n",
      "[1 1 1 1 0 1 1 1 1 1 1 1 1 1 1 1 1 1 1 1 1 1 1 1 1 1 1 1 1 0 1 1 1 1 1 1 1\n",
      " 0 1 1 1 0 1 1 1 1 1 1 1 0 1 1 1 1 1 1 1 1 1 1 1 1 1 1 1 1 1 1 1 1 1 1 1 0\n",
      " 1 1 1 1 1 1 1 1 0 1 1 1 1 1 1 1 1 1 1 1 1 1 1 1 1 1 1 1 0 1 1 1 1 1 1 1 0\n",
      " 1 0 1 1 1 1 1 1 1 1 1 1 1 1 1 1 1 1 1 1 1 1 0 1 1 0 1 1 1 1 1 1 1 1 0 1 1\n",
      " 1 0 1 1 1 1 0 1 1 1 1 1 1 0 1 1 1 1 1 1 1 1 1 0 1 0 1 1 1 1 1 1 1 0 1 0 1\n",
      " 1 1 1 1 1 1 1 1 1 1 0 1 1 0 0 1 1 1 1 1 1 1 1 1 1 1 1 1 1 1 1 1 1 1 1 1 1\n",
      " 1 0 1 1 1 1 1 1 1 1 1 1 1 1 1 1 1 0 0 1 1 1 1 1 1 1 1 0 1 1 0 1 1 1 1 1 1\n",
      " 0 1 1 1 1 1 1 1 1 1 1 1 1 1 1 1 1 1 0 1 0 1 1 1 0 1 1 1 1 1 1 0 1 1 1 1 1\n",
      " 1 1 0 1 1 1 1 1 1 1 1 1 0 1 1]\n",
      "[1 1 0 1 0 1 1 1 1 1 1 1 1 1 1 1 1 1 0 1 1 1 1 1 1 1 1 1 0 0 1 1 1 1 1 1 1\n",
      " 0 1 1 1 0 1 1 1 1 1 1 1 0 1 1 1 1 1 1 1 1 1 1 1 1 1 1 1 1 1 1 1 1 1 1 1 0\n",
      " 1 1 1 1 1 1 1 1 0 1 1 1 1 1 1 1 1 1 1 1 1 1 0 1 1 1 0 1 0 1 1 1 1 1 1 1 0\n",
      " 1 0 1 1 1 1 1 1 1 1 1 1 1 1 1 1 1 1 1 1 1 1 0 1 1 1 1 1 1 1 1 1 1 1 0 1 1\n",
      " 1 0 1 1 1 1 0 1 1 1 1 1 1 0 1 1 1 1 1 1 1 1 1 0 1 0 1 1 1 1 1 1 1 0 1 0 1\n",
      " 1 1 1 1 1 1 1 1 1 1 0 1 1 0 0 1 1 1 1 1 1 1 1 1 1 1 1 1 1 1 1 1 1 1 1 1 1\n",
      " 1 0 1 1 1 1 1 1 1 1 1 1 1 1 1 1 1 0 0 1 1 1 1 1 1 1 1 1 1 1 0 1 1 1 1 1 1\n",
      " 0 1 1 1 1 1 1 1 1 1 1 1 1 1 1 1 1 1 1 1 0 1 1 1 0 1 1 1 1 1 1 0 1 1 1 1 1\n",
      " 1 1 0 1 1 1 1 1 1 1 1 1 0 1 1]\n",
      "(311,)\n",
      "[08:38:31] WARNING: /workspace/src/objective/regression_obj.cu:152: reg:linear is now deprecated in favor of reg:squarederror.\n",
      "[1 1 1 1 1 1 1 0 1 1 1 1 1 1 1 1 1 0 1 1 0 1 1 1 1 1 1 1 1 1 0 1 0 1 1 1 1\n",
      " 1 1 1 1 1 1 1 1 1 1 1 1 1 0 0 1 1 1 0 1 1 1 1 1 1 1 1 1 1 1 1 1 1 1 1 0 1\n",
      " 1 1 1 1 1 1 1 1 0 1 0 1 1 1 1 0 1 1 1 1 1 1 1 1 1 1 1 1 1 1 1 1 1 0 1 1 1\n",
      " 1 1 1 1 1 1 1 1 1 1 1 1 1 1 1 1 0 1 1 1 1 0 1 1 0 1 0 1 1 1 0 1 1 1 1 1 1\n",
      " 1 1 1 1 1 1 0 1 1 1 1 1 1 0 1 1 1 1 1 1 1 1 1 1 1 0 1 1 1 1 1 1 0 1 1 1 1\n",
      " 1 1 0 1 0 0 1 1 1 1 1 1 1 1 0 1 1 0 1 1 1 1 1 1 1 1 1 0 1 1 1 1 1 1 1 1 1\n",
      " 1 1 0 0 1 1 1 1 1 1 1 1 1 1 1 1 1 1 1 1 1 1 1 1 1 1 0 1 1 1 1 1 1 1 1 1 1\n",
      " 1 1 0 0 1 0 0 1 1 1 1 1 0 1 1 1 1 1 1 1 1 0 1 1 0 1 1 1 1 1 1 0 1 1 0 1 1\n",
      " 1 1 1 1 1 1 1 1 1 1 0 0 1 1 1]\n",
      "[1 1 1 1 1 1 1 0 1 1 1 1 1 1 1 1 1 0 1 1 0 1 1 1 1 1 1 1 1 1 0 1 0 1 1 1 1\n",
      " 1 1 1 1 1 1 1 1 1 1 1 1 1 0 0 1 1 1 0 1 1 1 1 1 1 1 1 1 1 1 1 1 0 1 1 0 1\n",
      " 1 1 1 1 1 1 1 1 0 1 0 1 1 1 1 0 1 1 1 1 1 1 1 1 1 1 1 1 1 1 1 1 1 0 1 1 1\n",
      " 1 1 1 1 1 1 1 1 1 1 1 1 1 1 1 1 0 1 1 1 1 1 1 1 0 1 0 1 1 1 0 1 1 1 1 1 1\n",
      " 1 1 1 1 1 1 0 1 1 1 1 1 1 0 1 1 1 1 1 1 1 1 1 1 1 0 1 1 1 1 1 1 0 1 1 1 1\n",
      " 1 1 0 1 0 0 1 1 1 1 1 1 1 1 0 1 1 0 1 1 1 1 1 1 1 1 1 0 1 1 1 1 1 1 1 1 1\n",
      " 1 1 0 0 1 1 1 1 1 1 1 1 1 1 1 1 1 1 1 1 1 1 1 1 1 1 0 1 1 1 1 1 1 1 1 1 1\n",
      " 1 1 0 0 1 0 0 1 1 1 1 1 0 1 1 1 1 1 1 1 1 0 1 1 0 1 1 1 1 1 1 0 1 1 0 1 1\n",
      " 1 1 1 1 1 1 1 1 1 1 0 0 1 1 1]\n",
      "(311,)\n",
      "[08:38:32] WARNING: /workspace/src/objective/regression_obj.cu:152: reg:linear is now deprecated in favor of reg:squarederror.\n",
      "[1 1 0 1 1 1 0 1 0 1 1 1 1 1 1 0 1 1 1 1 1 1 1 1 1 1 1 1 0 1 1 1 1 1 1 1 1\n",
      " 1 1 1 1 1 1 1 1 1 1 1 1 1 1 1 0 1 1 1 0 1 1 1 0 1 1 1 1 1 1 1 1 0 1 1 1 1\n",
      " 1 1 1 1 1 1 1 1 1 0 1 1 1 1 1 1 1 1 0 1 1 1 1 1 1 1 1 1 1 1 1 0 0 1 1 0 1\n",
      " 0 0 1 1 1 1 1 1 1 1 0 1 1 0 0 1 0 1 1 1 1 1 1 1 1 1 1 0 1 1 1 0 1 0 1 1 1\n",
      " 1 1 0 0 1 1 1 0 1 1 0 1 1 1 1 0 1 1 0 1 1 0 1 1 1 1 0 1 1 1 1 1 1 1 1 1 1\n",
      " 1 1 1 0 1 1 1 1 1 0 1 1 1 1 1 1 0 1 1 1 1 1 0 1 1 0 1 1 0 0 1 1 1 1 1 1 1\n",
      " 1 0 1 1 1 1 1 1 1 1 1 0 1 1 1 1 0 1 1 1 1 1 1 1 1 1 1 1 1 1 0 1 1 1 1 1 1\n",
      " 0 1 1 1 1 1 1 1 1 1 1 1 1 1 1 0 1 1 1 1 1 1 1 1 1 1 1 1 0 1 1 1 1 0 1 1 1\n",
      " 0 1 1 1 1 1 1 1 1 1 1 1 1 0]\n",
      "[1 1 0 1 1 1 0 1 0 1 1 1 1 1 1 0 1 1 1 1 1 1 1 1 1 1 1 1 0 1 1 1 1 1 1 1 1\n",
      " 1 1 1 1 1 1 1 1 1 1 1 1 1 1 1 0 1 1 1 0 1 1 1 0 1 1 1 1 1 1 1 1 0 1 1 1 1\n",
      " 1 1 1 1 1 1 1 1 1 0 1 1 1 1 1 1 1 1 0 1 1 1 1 1 1 1 1 1 1 1 1 0 1 1 1 0 1\n",
      " 0 0 1 1 1 1 1 1 1 1 0 1 1 0 0 1 0 1 1 1 1 1 1 1 1 1 1 0 1 1 1 0 1 0 1 1 1\n",
      " 1 1 0 0 1 1 1 0 1 1 1 1 1 1 1 0 1 1 1 1 1 0 1 1 1 1 0 1 1 1 1 1 1 1 1 1 1\n",
      " 1 1 1 0 1 1 1 1 1 0 1 1 1 1 1 1 0 1 1 1 1 1 0 1 1 0 1 1 0 0 1 1 1 1 1 1 1\n",
      " 1 0 1 1 1 1 1 1 1 1 1 1 1 1 1 1 0 1 1 1 1 1 1 1 1 1 1 1 1 1 0 1 1 1 1 1 1\n",
      " 0 1 1 1 1 1 1 1 1 1 1 1 1 1 1 0 1 1 1 1 1 1 1 1 1 1 1 1 1 1 1 1 1 0 1 1 1\n",
      " 0 1 1 1 1 1 0 1 1 1 1 1 1 1]\n",
      "(310,)\n",
      "[08:38:33] WARNING: /workspace/src/objective/regression_obj.cu:152: reg:linear is now deprecated in favor of reg:squarederror.\n",
      "[1 1 1 1 1 1 1 1 1 1 1 1 1 1 1 1 1 1 1 0 0 1 1 1 1 1 1 0 1 1 1 1 1 0 1 1 1\n",
      " 1 1 1 1 1 1 1 1 1 1 1 1 1 1 1 1 1 1 1 1 1 0 1 1 0 1 0 1 1 1 1 1 1 1 1 1 1\n",
      " 1 1 1 1 1 1 1 1 1 1 1 1 1 1 1 1 1 1 1 1 0 1 1 1 1 1 1 1 1 1 1 1 1 1 1 1 1\n",
      " 1 1 1 1 1 1 1 1 1 1 1 0 0 1 1 1 1 1 1 1 1 1 0 1 1 0 1 1 1 1 1 1 1 1 1 1 1\n",
      " 1 1 1 1 1 0 1 1 1 1 1 1 1 1 1 1 0 1 1 1 1 1 1 1 1 1 1 1 1 1 0 1 1 1 1 1 1\n",
      " 1 0 1 1 1 1 1 1 1 0 1 1 1 0 1 1 1 1 1 1 1 0 1 1 1 1 1 1 1 1 1 1 1 1 0 1 0\n",
      " 1 1 1 1 1 1 1 1 1 0 1 1 1 1 1 1 1 1 1 1 1 1 1 1 1 1 1 1 1 1 0 1 1 1 1 1 1\n",
      " 1 1 1 1 1 1 1 1 1 1 0 1 1 1 1 1 1 1 0 1 1 1 1 0 1 1 1 1 1 1 1 1 1 1 1 1 0\n",
      " 1 1 1 1 1 1 1 1 1 1 1 1 1 1]\n",
      "[0 1 1 1 1 1 1 1 1 1 1 1 1 1 1 1 1 1 1 0 0 1 1 1 1 1 1 0 1 1 1 1 1 0 1 1 1\n",
      " 1 1 1 1 1 1 1 1 1 1 1 1 1 1 1 1 1 1 1 1 1 0 1 1 0 1 0 1 1 1 1 1 1 1 1 1 1\n",
      " 1 1 1 0 1 1 1 1 1 1 1 1 1 0 1 1 1 1 1 1 0 1 1 1 1 1 1 1 1 1 1 1 1 1 1 1 1\n",
      " 1 1 1 1 1 1 1 1 1 1 1 0 0 1 1 1 1 1 1 1 1 1 0 1 1 0 1 1 1 1 1 1 1 1 1 1 1\n",
      " 1 1 1 1 1 0 1 1 1 1 1 1 1 1 1 1 0 1 1 1 1 1 1 1 1 1 1 1 1 1 0 1 1 1 1 1 1\n",
      " 1 0 1 1 1 1 1 1 1 0 1 1 1 0 1 1 1 1 1 1 1 0 1 1 1 1 1 1 1 1 1 1 1 1 0 1 0\n",
      " 1 1 1 1 1 1 1 1 1 0 1 1 1 1 1 1 1 1 1 1 1 1 1 1 1 1 1 1 1 1 0 1 1 1 1 1 1\n",
      " 1 1 1 1 1 1 1 1 1 1 0 1 1 1 1 1 1 1 0 1 1 1 1 0 1 1 1 1 1 1 1 1 1 1 1 1 0\n",
      " 1 1 1 1 1 1 1 1 1 1 1 1 1 1]\n",
      "(310,)\n",
      "[08:38:34] WARNING: /workspace/src/objective/regression_obj.cu:152: reg:linear is now deprecated in favor of reg:squarederror.\n",
      "[0 1 1 1 1 0 1 1 1 1 1 1 1 1 1 0 0 1 0 1 1 1 1 1 1 1 1 1 1 1 1 0 1 1 1 1 0\n",
      " 1 1 1 1 1 1 1 1 0 1 1 1 0 0 1 1 1 1 1 0 1 1 1 1 1 1 1 1 1 0 1 1 1 1 1 1 1\n",
      " 1 1 1 1 1 1 1 1 1 1 1 1 1 0 1 1 1 1 1 1 1 1 0 1 1 1 0 1 1 1 1 1 0 1 1 1 1\n",
      " 0 0 1 1 0 1 1 1 1 1 1 1 1 1 1 1 0 1 1 1 1 1 0 0 1 1 0 1 0 1 1 1 1 1 1 1 1\n",
      " 1 1 1 1 1 0 1 1 1 1 1 0 1 1 1 1 1 1 0 1 1 1 1 1 1 1 1 1 1 1 1 1 1 1 1 1 1\n",
      " 1 1 1 1 1 1 0 1 0 1 0 1 1 0 0 1 1 1 1 1 1 1 1 1 1 1 1 1 1 1 1 0 1 1 1 1 1\n",
      " 0 1 1 0 1 1 1 0 1 1 0 1 1 1 1 1 1 1 1 0 1 1 0 1 1 1 1 1 1 1 0 1 1 1 1 1 1\n",
      " 1 1 1 1 1 1 1 1 1 1 1 1 1 0 1 0 1 0 0 1 1 1 1 1 1 1 1 1 1 1 0 1 1 1 1 1 1\n",
      " 1 1 1 1 1 1 1 1 1 1 1 1 1 1]\n",
      "[0 1 1 1 1 0 1 1 1 1 1 1 1 1 1 0 0 1 0 1 1 1 1 1 1 1 1 1 1 1 1 0 1 1 1 1 0\n",
      " 1 1 1 1 1 1 1 1 0 1 1 1 0 0 1 1 1 1 1 0 1 1 1 1 1 1 1 1 1 0 1 1 1 1 1 1 1\n",
      " 1 1 1 1 1 1 1 1 1 1 1 1 1 0 1 1 1 1 1 1 1 1 0 1 1 1 0 1 1 1 1 1 0 1 1 1 1\n",
      " 0 0 1 1 0 1 1 1 1 1 1 1 1 1 1 1 1 1 1 1 1 1 0 0 1 1 0 1 0 1 1 1 1 1 1 1 1\n",
      " 1 1 1 1 1 0 1 1 1 1 1 0 1 1 1 1 1 1 0 1 1 1 1 1 1 1 1 1 1 1 1 1 1 1 1 1 1\n",
      " 1 1 1 1 1 1 0 1 0 1 0 1 1 1 0 1 1 1 1 1 1 1 1 1 1 1 1 1 1 1 1 0 1 1 1 1 1\n",
      " 0 1 1 0 1 1 1 0 1 1 0 1 1 1 1 1 1 1 1 0 1 1 0 1 1 1 1 1 1 1 0 1 1 1 1 1 1\n",
      " 1 1 1 1 1 1 1 1 1 1 1 1 1 0 1 0 1 0 0 1 1 1 1 1 1 1 1 1 1 1 0 1 1 1 1 1 1\n",
      " 1 1 1 1 1 1 1 1 1 1 1 1 1 1]\n",
      "(310,)\n",
      "K-fold regression loss: 0.0255414647658695\n",
      "K-fold classific loss: 0.01417280365107354\n",
      "Dataset size: 1552\n"
     ]
    }
   ],
   "source": [
    "n_folds = 5\n",
    "kf = KFold(n_splits=n_folds, shuffle=True, random_state=42)\n",
    "loss_accum = 0\n",
    "class_loss_accum = 0\n",
    "for train_index, test_index in kf.split(clean_X, clean_y):\n",
    "    X_train, X_test = clean_X[train_index], clean_X[test_index]\n",
    "    y_train, y_test = clean_y[train_index], clean_y[test_index]\n",
    "    y_train_sep = np.array(list(map(separates, y_train)))\n",
    "    y_test_sep = np.array(list(map(separates, y_test)))\n",
    "    xgb_model = xgb.XGBRegressor(n_estimators=1000, max_depth=28, eta=0.01, subsample=1, colsample_bytree=1)\n",
    "    xgb_model.fit(X_train, y_train)\n",
    "    xgb_classify_model = xgb.XGBClassifier(n_estimators=1000, max_depth=28, eta=0.01, subsample=1, colsample_bytree=1)\n",
    "    xgb_classify_model.fit(X_train, y_train_sep)\n",
    "    y_hat = xgb_model.predict(X_test)\n",
    "    y_hat_classify = xgb_classify_model.predict(X_test)\n",
    "    print(y_hat_classify)\n",
    "    print(y_test_sep)\n",
    "    print(y_test_sep.shape)\n",
    "    l = loss(y_hat, y_test)\n",
    "    l_class = acc(y_hat_classify, y_test_sep)\n",
    "    loss_accum += l\n",
    "    class_loss_accum += l_class\n",
    "print(\"K-fold regression loss: \" + str(loss_accum/n_folds))\n",
    "print(\"K-fold classific loss: \" + str(class_loss_accum/n_folds))\n",
    "print(\"Dataset size: \" + str(dataset_size))"
   ]
  },
  {
   "cell_type": "code",
   "execution_count": 11,
   "metadata": {},
   "outputs": [
    {
     "name": "stdout",
     "output_type": "stream",
     "text": [
      "K-fold regression loss: 0.2807442055030601\n",
      "K-fold classific loss: 0.3543139600461545\n",
      "Dataset size: 1552\n"
     ]
    }
   ],
   "source": [
    "n_folds = 3\n",
    "kf = KFold(n_splits=n_folds, shuffle=True, random_state=42)\n",
    "loss_accum = 0\n",
    "class_loss_accum = 0\n",
    "n_neighbors = 400\n",
    "for train_index, test_index in kf.split(clean_X, clean_y):\n",
    "    X_train, X_test = clean_X[train_index], clean_X[test_index]\n",
    "    y_train, y_test = clean_y[train_index], clean_y[test_index]\n",
    "    y_train_sep = np.array(list(map(separates, y_train)))\n",
    "    y_test_sep = np.array(list(map(separates, y_test)))\n",
    "    knn_regression_model = neighbors.KNeighborsRegressor(n_neighbors)\n",
    "    knn_regression_model.fit(X_train, y_train)\n",
    "    knn_classifier_model = neighbors.KNeighborsClassifier(n_neighbors)\n",
    "    knn_classifier_model.fit(X_train, y_train_sep)\n",
    "    y_hat = (knn_regression_model.predict(X_test)).reshape(-1, 1)\n",
    "    y_hat_classify = (knn_classifier_model.predict(X_test)).reshape(-1, 1)\n",
    "    l = loss(y_hat, y_test)\n",
    "    l_class = loss(y_hat_classify, y_test_sep)\n",
    "    loss_accum += l\n",
    "    class_loss_accum += l_class\n",
    "print(\"K-fold regression loss: \" + str(loss_accum/n_folds))\n",
    "print(\"K-fold classific loss: \" + str(class_loss_accum/n_folds))\n",
    "print(\"Dataset size: \" + str(dataset_size))"
   ]
  },
  {
   "cell_type": "markdown",
   "metadata": {},
   "source": [
    "Visualize obtained field"
   ]
  },
  {
   "cell_type": "code",
   "execution_count": 12,
   "metadata": {},
   "outputs": [
    {
     "name": "stdout",
     "output_type": "stream",
     "text": [
      "0.7541772951737443\n"
     ]
    },
    {
     "data": {
      "text/plain": [
       "<matplotlib.image.AxesImage at 0x7f2b472d93c8>"
      ]
     },
     "execution_count": 12,
     "metadata": {},
     "output_type": "execute_result"
    },
    {
     "data": {
      "image/png": "[encoded data removed]",
      "text/plain": [
       "<Figure size 432x288 with 1 Axes>"
      ]
     },
     "metadata": {
      "needs_background": "light"
     },
     "output_type": "display_data"
    }
   ],
   "source": [
    "from pylab import *\n",
    "from mpl_toolkits.mplot3d import Axes3D\n",
    "\n",
    "\n",
    "xvalues, yvalues = meshgrid(arange(0, 20, 0.1), arange(0, 20, 0.1))\n",
    "vals = np.array(np.meshgrid(arange(0, 20, 0.1), arange(0, 20, 0.1))).reshape(-1,2)\n",
    "zvalues = sin(sqrt(xvalues**2 + yvalues**2))#xgb_model.predict(vals)\n",
    "ax = gca(projection='3d')\n",
    "zvalues = zvalues.reshape(xvalues.shape)\n",
    "#ax.plot_surface(xvalues, yvalues, zvalues)\n",
    "print(zvalues[3, 8])\n",
    "plt.imshow(zvalues, cmap='gray', vmin=-1.1, vmax=1.1, aspect='auto')\n",
    "#cp = contour(xvalues, yvalues, zvalues)\n",
    "#clabel(cp)\n",
    "#show()"
   ]
  },
  {
   "cell_type": "code",
   "execution_count": 13,
   "metadata": {},
   "outputs": [],
   "source": [
    "train_X, test_X, train_y, test_y = train_test_split(clean_X, clean_y, test_size=0.20, random_state=42)"
   ]
  },
  {
   "cell_type": "code",
   "execution_count": 14,
   "metadata": {},
   "outputs": [],
   "source": [
    "train_X_0, train_X_1, train_y_0, train_y_1 = train_test_split(train_X, train_y, test_size = 0.005)"
   ]
  },
  {
   "cell_type": "code",
   "execution_count": 15,
   "metadata": {},
   "outputs": [],
   "source": [
    "train_y_sep = np.array(list(map(separates, train_y_0)))\n",
    "test_y_sep = np.array(list(map(separates, test_y)))"
   ]
  },
  {
   "cell_type": "code",
   "execution_count": 16,
   "metadata": {},
   "outputs": [
    {
     "data": {
      "text/plain": [
       "array([0, 1, 1, ..., 1, 1, 1])"
      ]
     },
     "execution_count": 16,
     "metadata": {},
     "output_type": "execute_result"
    }
   ],
   "source": [
    "train_y_sep"
   ]
  },
  {
   "cell_type": "code",
   "execution_count": 17,
   "metadata": {},
   "outputs": [],
   "source": [
    "# Quick baseline\n",
    "\n",
    "xgb_model = xgb.XGBRegressor(n_estimators=1000, max_depth=28, eta=0.01, subsample=1, colsample_bytree=1)\n",
    "xgb_classify_model = xgb.XGBClassifier(n_estimators=8000, max_depth=18, eta=0.1, subsample=1, colsample_bytree=1)\n"
   ]
  },
  {
   "cell_type": "code",
   "execution_count": 18,
   "metadata": {},
   "outputs": [
    {
     "data": {
      "text/plain": [
       "array([0, 1, 1, ..., 1, 1, 1])"
      ]
     },
     "execution_count": 18,
     "metadata": {},
     "output_type": "execute_result"
    }
   ],
   "source": [
    "train_y_sep"
   ]
  },
  {
   "cell_type": "code",
   "execution_count": 19,
   "metadata": {},
   "outputs": [
    {
     "name": "stdout",
     "output_type": "stream",
     "text": [
      "[08:38:37] WARNING: /workspace/src/objective/regression_obj.cu:152: reg:linear is now deprecated in favor of reg:squarederror.\n"
     ]
    },
    {
     "data": {
      "text/plain": [
       "XGBClassifier(eta=0.1, max_depth=18, n_estimators=8000)"
      ]
     },
     "execution_count": 19,
     "metadata": {},
     "output_type": "execute_result"
    }
   ],
   "source": [
    "xgb_model.fit(train_X_0, train_y_0)\n",
    "xgb_classify_model.fit(train_X_0, train_y_sep)"
   ]
  },
  {
   "cell_type": "code",
   "execution_count": 20,
   "metadata": {},
   "outputs": [],
   "source": [
    "y_hat = xgb_model.predict(test_X)\n",
    "y_hat_sep = xgb_classify_model.predict(test_X)"
   ]
  },
  {
   "cell_type": "code",
   "execution_count": 21,
   "metadata": {},
   "outputs": [
    {
     "data": {
      "text/plain": [
       "array([1, 1, 1, 1, 1, 1, 1, 1, 1, 0, 1, 1, 1, 1, 1, 1, 1, 1, 1, 1, 0, 1,\n",
       "       1, 1, 1, 1, 1, 1, 0, 1, 1, 1, 1, 1, 1, 1, 1, 1, 1, 1, 1, 0, 0, 1,\n",
       "       1, 1, 1, 1, 1, 1, 1, 1, 1, 1, 1, 1, 1, 1, 1, 1, 1, 0, 1, 1, 1, 1,\n",
       "       0, 1, 1, 1, 1, 1, 1, 0, 1, 0, 1, 1, 1, 1, 1, 1, 1, 1, 1, 1, 1, 1,\n",
       "       1, 1, 1, 1, 1, 0, 1, 1, 0, 1, 1, 1, 1, 1, 0, 0, 1, 1, 1, 1, 1, 0,\n",
       "       1, 1, 1, 1, 1, 1, 1, 1, 1, 1, 1, 1, 1, 1, 1, 1, 0, 1, 1, 1, 1, 1,\n",
       "       1, 1, 1, 1, 1, 1, 1, 1, 1, 1, 1, 1, 1, 1, 1, 1, 0, 1, 1, 1, 1, 1,\n",
       "       1, 1, 1, 1, 1, 1, 1, 1, 1, 1, 1, 1, 1, 1, 1, 1, 0, 1, 1, 1, 1, 1,\n",
       "       1, 1, 1, 1, 1, 1, 1, 1, 1, 1, 0, 1, 0, 0, 1, 1, 1, 1, 1, 1, 1, 1,\n",
       "       1, 1, 1, 1, 1, 1, 1, 1, 1, 0, 1, 1, 1, 1, 1, 1, 1, 0, 1, 0, 1, 1,\n",
       "       0, 1, 1, 1, 1, 1, 1, 0, 1, 1, 1, 1, 1, 1, 1, 0, 0, 1, 1, 1, 0, 1,\n",
       "       1, 1, 1, 1, 1, 1, 0, 1, 0, 0, 1, 1, 0, 1, 1, 1, 1, 1, 1, 1, 1, 1,\n",
       "       1, 1, 1, 1, 1, 1, 1, 1, 1, 1, 1, 0, 1, 1, 1, 1, 1, 1, 1, 1, 1, 1,\n",
       "       1, 1, 1, 1, 1, 1, 1, 1, 1, 0, 1, 1, 1, 1, 1, 1, 1, 1, 1, 1, 1, 1,\n",
       "       1, 0, 1])"
      ]
     },
     "execution_count": 21,
     "metadata": {},
     "output_type": "execute_result"
    }
   ],
   "source": [
    "y_hat_sep"
   ]
  },
  {
   "cell_type": "code",
   "execution_count": 22,
   "metadata": {},
   "outputs": [
    {
     "data": {
      "text/plain": [
       "0.03322962541547726"
      ]
     },
     "execution_count": 22,
     "metadata": {},
     "output_type": "execute_result"
    }
   ],
   "source": [
    "loss(y_hat, test_y)"
   ]
  },
  {
   "cell_type": "code",
   "execution_count": 23,
   "metadata": {},
   "outputs": [
    {
     "data": {
      "text/plain": [
       "0.1603853879529251"
      ]
     },
     "execution_count": 23,
     "metadata": {},
     "output_type": "execute_result"
    }
   ],
   "source": [
    "loss(y_hat_sep, test_y_sep)"
   ]
  },
  {
   "cell_type": "code",
   "execution_count": 24,
   "metadata": {},
   "outputs": [
    {
     "data": {
      "text/plain": [
       "array([1, 1, 1, 1, 1, 1, 1, 1, 1, 0, 1, 1, 1, 1, 1, 1, 1, 1, 1, 1, 0, 1,\n",
       "       1, 1, 1, 1, 1, 1, 0, 1, 1, 1, 1, 0, 1, 1, 1, 1, 1, 1, 1, 0, 0, 1,\n",
       "       1, 1, 1, 1, 1, 1, 1, 1, 1, 1, 1, 1, 1, 1, 1, 1, 1, 0, 1, 1, 1, 1,\n",
       "       1, 1, 1, 1, 1, 1, 1, 1, 1, 0, 1, 1, 1, 1, 1, 1, 1, 1, 1, 1, 1, 1,\n",
       "       1, 1, 1, 1, 1, 0, 1, 1, 0, 1, 1, 1, 1, 1, 0, 0, 1, 1, 1, 1, 1, 0,\n",
       "       0, 1, 1, 1, 1, 1, 1, 1, 1, 1, 1, 1, 1, 1, 1, 1, 0, 0, 1, 1, 1, 1,\n",
       "       1, 1, 1, 1, 1, 1, 1, 1, 1, 1, 1, 1, 1, 1, 1, 1, 1, 1, 1, 1, 1, 1,\n",
       "       1, 1, 1, 1, 1, 1, 1, 1, 1, 1, 1, 1, 1, 1, 1, 0, 0, 1, 1, 1, 1, 1,\n",
       "       1, 1, 1, 1, 1, 1, 1, 1, 1, 1, 0, 1, 0, 0, 1, 1, 1, 1, 1, 1, 1, 1,\n",
       "       1, 1, 1, 1, 1, 1, 1, 1, 1, 0, 1, 1, 1, 1, 1, 1, 1, 0, 1, 0, 1, 1,\n",
       "       0, 1, 1, 1, 1, 1, 1, 0, 1, 0, 1, 1, 1, 1, 1, 0, 0, 1, 1, 1, 0, 1,\n",
       "       1, 1, 1, 1, 1, 1, 0, 1, 0, 0, 1, 1, 0, 1, 1, 1, 1, 1, 1, 1, 1, 1,\n",
       "       1, 1, 1, 1, 1, 1, 1, 1, 1, 1, 1, 0, 1, 1, 1, 1, 1, 1, 1, 1, 1, 1,\n",
       "       1, 1, 1, 1, 1, 1, 1, 1, 1, 0, 1, 1, 1, 1, 1, 1, 1, 1, 1, 1, 1, 1,\n",
       "       1, 0, 1])"
      ]
     },
     "execution_count": 24,
     "metadata": {},
     "output_type": "execute_result"
    }
   ],
   "source": [
    "test_y_sep"
   ]
  },
  {
   "cell_type": "code",
   "execution_count": 25,
   "metadata": {},
   "outputs": [
    {
     "data": {
      "text/plain": [
       "array([1, 1, 1, 1, 1, 1, 1, 1, 1, 0, 1, 1, 1, 1, 1, 1, 1, 1, 1, 1, 0, 1,\n",
       "       1, 1, 1, 1, 1, 1, 0, 1, 1, 1, 1, 1, 1, 1, 1, 1, 1, 1, 1, 0, 0, 1,\n",
       "       1, 1, 1, 1, 1, 1, 1, 1, 1, 1, 1, 1, 1, 1, 1, 1, 1, 0, 1, 1, 1, 1,\n",
       "       0, 1, 1, 1, 1, 1, 1, 0, 1, 0, 1, 1, 1, 1, 1, 1, 1, 1, 1, 1, 1, 1,\n",
       "       1, 1, 1, 1, 1, 0, 1, 1, 0, 1, 1, 1, 1, 1, 0, 0, 1, 1, 1, 1, 1, 0,\n",
       "       1, 1, 1, 1, 1, 1, 1, 1, 1, 1, 1, 1, 1, 1, 1, 1, 0, 1, 1, 1, 1, 1,\n",
       "       1, 1, 1, 1, 1, 1, 1, 1, 1, 1, 1, 1, 1, 1, 1, 1, 0, 1, 1, 1, 1, 1,\n",
       "       1, 1, 1, 1, 1, 1, 1, 1, 1, 1, 1, 1, 1, 1, 1, 1, 0, 1, 1, 1, 1, 1,\n",
       "       1, 1, 1, 1, 1, 1, 1, 1, 1, 1, 0, 1, 0, 0, 1, 1, 1, 1, 1, 1, 1, 1,\n",
       "       1, 1, 1, 1, 1, 1, 1, 1, 1, 0, 1, 1, 1, 1, 1, 1, 1, 0, 1, 0, 1, 1,\n",
       "       0, 1, 1, 1, 1, 1, 1, 0, 1, 1, 1, 1, 1, 1, 1, 0, 0, 1, 1, 1, 0, 1,\n",
       "       1, 1, 1, 1, 1, 1, 0, 1, 0, 0, 1, 1, 0, 1, 1, 1, 1, 1, 1, 1, 1, 1,\n",
       "       1, 1, 1, 1, 1, 1, 1, 1, 1, 1, 1, 0, 1, 1, 1, 1, 1, 1, 1, 1, 1, 1,\n",
       "       1, 1, 1, 1, 1, 1, 1, 1, 1, 0, 1, 1, 1, 1, 1, 1, 1, 1, 1, 1, 1, 1,\n",
       "       1, 0, 1])"
      ]
     },
     "execution_count": 25,
     "metadata": {},
     "output_type": "execute_result"
    }
   ],
   "source": [
    "y_hat_sep"
   ]
  },
  {
   "cell_type": "code",
   "execution_count": null,
   "metadata": {},
   "outputs": [],
   "source": []
  },
  {
   "cell_type": "code",
   "execution_count": null,
   "metadata": {},
   "outputs": [],
   "source": []
  },
  {
   "cell_type": "code",
   "execution_count": 26,
   "metadata": {},
   "outputs": [],
   "source": [
    "# Let's give it an extra boost\n",
    "\n"
   ]
  },
  {
   "cell_type": "code",
   "execution_count": 27,
   "metadata": {},
   "outputs": [],
   "source": [
    "feat_1 = list(map(lambda x: x[0], train_X_0 ))\n",
    "feat_2 = list(map(lambda x: x[1], train_X_0 ))\n",
    "color = train_y_sep"
   ]
  },
  {
   "cell_type": "code",
   "execution_count": 28,
   "metadata": {},
   "outputs": [],
   "source": [
    "def get_color(y):\n",
    "    if y>0.98:\n",
    "        return 0.0\n",
    "    else:\n",
    "        return y"
   ]
  },
  {
   "cell_type": "code",
   "execution_count": 29,
   "metadata": {},
   "outputs": [
    {
     "data": {
      "text/plain": [
       "<matplotlib.collections.PathCollection at 0x7f2be168aba8>"
      ]
     },
     "execution_count": 29,
     "metadata": {},
     "output_type": "execute_result"
    },
    {
     "data": {
      "image/png": "[encoded data removed]",
      "text/plain": [
       "<Figure size 432x288 with 1 Axes>"
      ]
     },
     "metadata": {
      "needs_background": "light"
     },
     "output_type": "display_data"
    }
   ],
   "source": [
    "plt.scatter(feat_1, feat_2, c=feat_2)"
   ]
  },
  {
   "cell_type": "code",
   "execution_count": 30,
   "metadata": {},
   "outputs": [
    {
     "data": {
      "text/plain": [
       "<matplotlib.collections.PathCollection at 0x7f2be161cda0>"
      ]
     },
     "execution_count": 30,
     "metadata": {},
     "output_type": "execute_result"
    },
    {
     "data": {
      "image/png": "[encoded data removed]",
      "text/plain": [
       "<Figure size 432x288 with 1 Axes>"
      ]
     },
     "metadata": {
      "needs_background": "light"
     },
     "output_type": "display_data"
    }
   ],
   "source": [
    "plt.scatter(feat_1, feat_2, c=color)"
   ]
  },
  {
   "cell_type": "code",
   "execution_count": 31,
   "metadata": {},
   "outputs": [],
   "source": [
    "############### Let's build a Neural Network model next"
   ]
  },
  {
   "cell_type": "code",
   "execution_count": 32,
   "metadata": {},
   "outputs": [
    {
     "data": {
      "text/plain": [
       "array([   1.57565921, 1125.06674763])"
      ]
     },
     "execution_count": 32,
     "metadata": {},
     "output_type": "execute_result"
    }
   ],
   "source": [
    "train_X[3]"
   ]
  },
  {
   "cell_type": "code",
   "execution_count": 33,
   "metadata": {},
   "outputs": [],
   "source": [
    "aoa_mean = np.mean(list(map(lambda x: x[0], train_X_0)))\n",
    "re_mean = np.mean(list(map(lambda x: x[1], train_X_0)))\n",
    "aoa_std = np.std(list(map(lambda x: x[0], train_X_0)))\n",
    "re_std = np.std(list(map(lambda x: x[1], train_X_0)))"
   ]
  },
  {
   "cell_type": "code",
   "execution_count": 34,
   "metadata": {},
   "outputs": [],
   "source": [
    "def scale(arr, mean, std):\n",
    "    return (arr - mean) / std\n",
    "    \n",
    "def unscale(arr, mean, std):\n",
    "    return (arr * std) + mean"
   ]
  },
  {
   "cell_type": "code",
   "execution_count": 35,
   "metadata": {},
   "outputs": [],
   "source": [
    "normalized_aoa = scale(list(map(lambda x: x[0], train_X_0)), aoa_mean, aoa_std)"
   ]
  },
  {
   "cell_type": "code",
   "execution_count": 36,
   "metadata": {},
   "outputs": [
    {
     "data": {
      "text/plain": [
       "1.0000000000000002"
      ]
     },
     "execution_count": 36,
     "metadata": {},
     "output_type": "execute_result"
    }
   ],
   "source": [
    "np.std(normalized_aoa)"
   ]
  },
  {
   "cell_type": "code",
   "execution_count": 37,
   "metadata": {},
   "outputs": [
    {
     "data": {
      "text/plain": [
       "6.710903645475245"
      ]
     },
     "execution_count": 37,
     "metadata": {},
     "output_type": "execute_result"
    }
   ],
   "source": [
    "np.std(unscale(normalized_aoa, aoa_mean, aoa_std))"
   ]
  },
  {
   "cell_type": "code",
   "execution_count": 38,
   "metadata": {},
   "outputs": [],
   "source": [
    "normalized_re = scale(list(map(lambda x: x[1], train_X_0)), re_mean, re_std)"
   ]
  },
  {
   "cell_type": "code",
   "execution_count": 39,
   "metadata": {},
   "outputs": [],
   "source": [
    "normalized_train_X_0 = np.array(list(zip(normalized_aoa, normalized_re)))"
   ]
  },
  {
   "cell_type": "code",
   "execution_count": 40,
   "metadata": {},
   "outputs": [],
   "source": [
    "def normalize_input_data(data, aoa_mean=None, aoa_std=None, re_mean=None, re_std=None):\n",
    "    if aoa_mean == None:\n",
    "        aoa_mean = np.mean(list(map(lambda x: x[0], data)))\n",
    "    if re_mean == None:\n",
    "        re_mean = np.mean(list(map(lambda x: x[1], data)))\n",
    "    if aoa_std == None:\n",
    "        aoa_std = np.std(list(map(lambda x: x[0], data)))\n",
    "    if re_std == None:\n",
    "        re_std = np.std(list(map(lambda x: x[1], data)))\n",
    "    normalized_aoa = scale(list(map(lambda x: x[0], data)), aoa_mean, aoa_std)\n",
    "    normalized_re = scale(list(map(lambda x: x[1], data)), re_mean, re_std)\n",
    "    return np.array(list(zip(normalized_aoa, normalized_re)))"
   ]
  },
  {
   "cell_type": "code",
   "execution_count": 41,
   "metadata": {},
   "outputs": [],
   "source": [
    "normalized_train_X_0 = normalize_input_data(train_X_0)\n",
    "normalized_test_X = normalize_input_data(test_X, aoa_mean, aoa_std, re_mean, re_std)"
   ]
  },
  {
   "cell_type": "code",
   "execution_count": 42,
   "metadata": {},
   "outputs": [
    {
     "name": "stderr",
     "output_type": "stream",
     "text": [
      "Using TensorFlow backend.\n",
      "/home/emilio/.local/lib/python3.6/site-packages/tensorflow/python/framework/dtypes.py:516: FutureWarning: Passing (type, 1) or '1type' as a synonym of type is deprecated; in a future version of numpy, it will be understood as (type, (1,)) / '(1,)type'.\n",
      "  _np_qint8 = np.dtype([(\"qint8\", np.int8, 1)])\n",
      "/home/emilio/.local/lib/python3.6/site-packages/tensorflow/python/framework/dtypes.py:517: FutureWarning: Passing (type, 1) or '1type' as a synonym of type is deprecated; in a future version of numpy, it will be understood as (type, (1,)) / '(1,)type'.\n",
      "  _np_quint8 = np.dtype([(\"quint8\", np.uint8, 1)])\n",
      "/home/emilio/.local/lib/python3.6/site-packages/tensorflow/python/framework/dtypes.py:518: FutureWarning: Passing (type, 1) or '1type' as a synonym of type is deprecated; in a future version of numpy, it will be understood as (type, (1,)) / '(1,)type'.\n",
      "  _np_qint16 = np.dtype([(\"qint16\", np.int16, 1)])\n",
      "/home/emilio/.local/lib/python3.6/site-packages/tensorflow/python/framework/dtypes.py:519: FutureWarning: Passing (type, 1) or '1type' as a synonym of type is deprecated; in a future version of numpy, it will be understood as (type, (1,)) / '(1,)type'.\n",
      "  _np_quint16 = np.dtype([(\"quint16\", np.uint16, 1)])\n",
      "/home/emilio/.local/lib/python3.6/site-packages/tensorflow/python/framework/dtypes.py:520: FutureWarning: Passing (type, 1) or '1type' as a synonym of type is deprecated; in a future version of numpy, it will be understood as (type, (1,)) / '(1,)type'.\n",
      "  _np_qint32 = np.dtype([(\"qint32\", np.int32, 1)])\n",
      "/home/emilio/.local/lib/python3.6/site-packages/tensorflow/python/framework/dtypes.py:525: FutureWarning: Passing (type, 1) or '1type' as a synonym of type is deprecated; in a future version of numpy, it will be understood as (type, (1,)) / '(1,)type'.\n",
      "  np_resource = np.dtype([(\"resource\", np.ubyte, 1)])\n"
     ]
    }
   ],
   "source": [
    "from keras import backend as K\n",
    "def root_mean_squared_error(y_true, y_pred):\n",
    "        return K.sqrt(K.mean(K.square(y_pred - y_true))) \n",
    "\n",
    "import keras\n",
    "from keras import Sequential\n",
    "from keras.layers import Dense\n",
    "from keras.layers import Dropout\n",
    "from keras.layers import Softmax\n",
    "\n"
   ]
  },
  {
   "cell_type": "code",
   "execution_count": 43,
   "metadata": {},
   "outputs": [],
   "source": [
    "from keras.utils.vis_utils import plot_model"
   ]
  },
  {
   "cell_type": "code",
   "execution_count": 44,
   "metadata": {},
   "outputs": [
    {
     "ename": "OSError",
     "evalue": "`pydot` failed to call GraphViz.Please install GraphViz (https://www.graphviz.org/) and ensure that its executables are in the $PATH.",
     "output_type": "error",
     "traceback": [
      "\u001b[0;31m---------------------------------------------------------------------------\u001b[0m",
      "\u001b[0;31mFileNotFoundError\u001b[0m                         Traceback (most recent call last)",
      "\u001b[0;32m~/.local/lib/python3.6/site-packages/pydot.py\u001b[0m in \u001b[0;36mcreate\u001b[0;34m(self, prog, format, encoding)\u001b[0m\n\u001b[1;32m   1925\u001b[0m                 \u001b[0marguments\u001b[0m\u001b[0;34m=\u001b[0m\u001b[0marguments\u001b[0m\u001b[0;34m,\u001b[0m\u001b[0;34m\u001b[0m\u001b[0;34m\u001b[0m\u001b[0m\n\u001b[0;32m-> 1926\u001b[0;31m                 \u001b[0mworking_dir\u001b[0m\u001b[0;34m=\u001b[0m\u001b[0mtmp_dir\u001b[0m\u001b[0;34m,\u001b[0m\u001b[0;34m\u001b[0m\u001b[0;34m\u001b[0m\u001b[0m\n\u001b[0m\u001b[1;32m   1927\u001b[0m             )\n",
      "\u001b[0;32m~/.local/lib/python3.6/site-packages/pydot.py\u001b[0m in \u001b[0;36mcall_graphviz\u001b[0;34m(program, arguments, working_dir, **kwargs)\u001b[0m\n\u001b[1;32m    138\u001b[0m         \u001b[0mstdout\u001b[0m\u001b[0;34m=\u001b[0m\u001b[0msubprocess\u001b[0m\u001b[0;34m.\u001b[0m\u001b[0mPIPE\u001b[0m\u001b[0;34m,\u001b[0m\u001b[0;34m\u001b[0m\u001b[0;34m\u001b[0m\u001b[0m\n\u001b[0;32m--> 139\u001b[0;31m         \u001b[0;34m**\u001b[0m\u001b[0mkwargs\u001b[0m\u001b[0;34m\u001b[0m\u001b[0;34m\u001b[0m\u001b[0m\n\u001b[0m\u001b[1;32m    140\u001b[0m     )\n",
      "\u001b[0;32m/usr/lib/python3.6/subprocess.py\u001b[0m in \u001b[0;36m__init__\u001b[0;34m(self, args, bufsize, executable, stdin, stdout, stderr, preexec_fn, close_fds, shell, cwd, env, universal_newlines, startupinfo, creationflags, restore_signals, start_new_session, pass_fds, encoding, errors)\u001b[0m\n\u001b[1;32m    728\u001b[0m                                 \u001b[0merrread\u001b[0m\u001b[0;34m,\u001b[0m \u001b[0merrwrite\u001b[0m\u001b[0;34m,\u001b[0m\u001b[0;34m\u001b[0m\u001b[0;34m\u001b[0m\u001b[0m\n\u001b[0;32m--> 729\u001b[0;31m                                 restore_signals, start_new_session)\n\u001b[0m\u001b[1;32m    730\u001b[0m         \u001b[0;32mexcept\u001b[0m\u001b[0;34m:\u001b[0m\u001b[0;34m\u001b[0m\u001b[0;34m\u001b[0m\u001b[0m\n",
      "\u001b[0;32m/usr/lib/python3.6/subprocess.py\u001b[0m in \u001b[0;36m_execute_child\u001b[0;34m(self, args, executable, preexec_fn, close_fds, pass_fds, cwd, env, startupinfo, creationflags, shell, p2cread, p2cwrite, c2pread, c2pwrite, errread, errwrite, restore_signals, start_new_session)\u001b[0m\n\u001b[1;32m   1363\u001b[0m                             \u001b[0merr_msg\u001b[0m \u001b[0;34m+=\u001b[0m \u001b[0;34m': '\u001b[0m \u001b[0;34m+\u001b[0m \u001b[0mrepr\u001b[0m\u001b[0;34m(\u001b[0m\u001b[0merr_filename\u001b[0m\u001b[0;34m)\u001b[0m\u001b[0;34m\u001b[0m\u001b[0;34m\u001b[0m\u001b[0m\n\u001b[0;32m-> 1364\u001b[0;31m                     \u001b[0;32mraise\u001b[0m \u001b[0mchild_exception_type\u001b[0m\u001b[0;34m(\u001b[0m\u001b[0merrno_num\u001b[0m\u001b[0;34m,\u001b[0m \u001b[0merr_msg\u001b[0m\u001b[0;34m,\u001b[0m \u001b[0merr_filename\u001b[0m\u001b[0;34m)\u001b[0m\u001b[0;34m\u001b[0m\u001b[0;34m\u001b[0m\u001b[0m\n\u001b[0m\u001b[1;32m   1365\u001b[0m                 \u001b[0;32mraise\u001b[0m \u001b[0mchild_exception_type\u001b[0m\u001b[0;34m(\u001b[0m\u001b[0merr_msg\u001b[0m\u001b[0;34m)\u001b[0m\u001b[0;34m\u001b[0m\u001b[0;34m\u001b[0m\u001b[0m\n",
      "\u001b[0;31mFileNotFoundError\u001b[0m: [Errno 2] No such file or directory: 'dot': 'dot'",
      "\nDuring handling of the above exception, another exception occurred:\n",
      "\u001b[0;31mFileNotFoundError\u001b[0m                         Traceback (most recent call last)",
      "\u001b[0;32m~/.local/lib/python3.6/site-packages/keras/utils/vis_utils.py\u001b[0m in \u001b[0;36m_check_pydot\u001b[0;34m()\u001b[0m\n\u001b[1;32m     27\u001b[0m         \u001b[0;31m# to check the pydot/graphviz installation.\u001b[0m\u001b[0;34m\u001b[0m\u001b[0;34m\u001b[0m\u001b[0;34m\u001b[0m\u001b[0m\n\u001b[0;32m---> 28\u001b[0;31m         \u001b[0mpydot\u001b[0m\u001b[0;34m.\u001b[0m\u001b[0mDot\u001b[0m\u001b[0;34m.\u001b[0m\u001b[0mcreate\u001b[0m\u001b[0;34m(\u001b[0m\u001b[0mpydot\u001b[0m\u001b[0;34m.\u001b[0m\u001b[0mDot\u001b[0m\u001b[0;34m(\u001b[0m\u001b[0;34m)\u001b[0m\u001b[0;34m)\u001b[0m\u001b[0;34m\u001b[0m\u001b[0;34m\u001b[0m\u001b[0m\n\u001b[0m\u001b[1;32m     29\u001b[0m     \u001b[0;32mexcept\u001b[0m \u001b[0mOSError\u001b[0m\u001b[0;34m:\u001b[0m\u001b[0;34m\u001b[0m\u001b[0;34m\u001b[0m\u001b[0m\n",
      "\u001b[0;32m~/.local/lib/python3.6/site-packages/pydot.py\u001b[0m in \u001b[0;36mcreate\u001b[0;34m(self, prog, format, encoding)\u001b[0m\n\u001b[1;32m   1932\u001b[0m                     prog=prog)\n\u001b[0;32m-> 1933\u001b[0;31m                 \u001b[0;32mraise\u001b[0m \u001b[0mOSError\u001b[0m\u001b[0;34m(\u001b[0m\u001b[0;34m*\u001b[0m\u001b[0margs\u001b[0m\u001b[0;34m)\u001b[0m\u001b[0;34m\u001b[0m\u001b[0;34m\u001b[0m\u001b[0m\n\u001b[0m\u001b[1;32m   1934\u001b[0m             \u001b[0;32melse\u001b[0m\u001b[0;34m:\u001b[0m\u001b[0;34m\u001b[0m\u001b[0;34m\u001b[0m\u001b[0m\n",
      "\u001b[0;31mFileNotFoundError\u001b[0m: [Errno 2] \"dot\" not found in path.",
      "\nDuring handling of the above exception, another exception occurred:\n",
      "\u001b[0;31mOSError\u001b[0m                                   Traceback (most recent call last)",
      "\u001b[0;32m<ipython-input-44-029054c73528>\u001b[0m in \u001b[0;36m<module>\u001b[0;34m\u001b[0m\n\u001b[1;32m     15\u001b[0m     \u001b[0mnn_regression_model\u001b[0m\u001b[0;34m.\u001b[0m\u001b[0madd\u001b[0m\u001b[0;34m(\u001b[0m\u001b[0mDense\u001b[0m\u001b[0;34m(\u001b[0m\u001b[0;36m1\u001b[0m\u001b[0;34m)\u001b[0m\u001b[0;34m)\u001b[0m\u001b[0;34m\u001b[0m\u001b[0;34m\u001b[0m\u001b[0m\n\u001b[1;32m     16\u001b[0m \u001b[0;34m\u001b[0m\u001b[0m\n\u001b[0;32m---> 17\u001b[0;31m     \u001b[0mplot_model\u001b[0m\u001b[0;34m(\u001b[0m\u001b[0mnn_regression_model\u001b[0m\u001b[0;34m,\u001b[0m \u001b[0mshow_shapes\u001b[0m\u001b[0;34m=\u001b[0m\u001b[0;32mTrue\u001b[0m\u001b[0;34m,\u001b[0m \u001b[0mshow_layer_names\u001b[0m\u001b[0;34m=\u001b[0m\u001b[0;32mTrue\u001b[0m\u001b[0;34m)\u001b[0m\u001b[0;34m\u001b[0m\u001b[0;34m\u001b[0m\u001b[0m\n\u001b[0m\u001b[1;32m     18\u001b[0m \u001b[0;34m\u001b[0m\u001b[0m\n\u001b[1;32m     19\u001b[0m     \u001b[0mnn_classifier_model\u001b[0m \u001b[0;34m=\u001b[0m \u001b[0mSequential\u001b[0m\u001b[0;34m(\u001b[0m\u001b[0;34m)\u001b[0m\u001b[0;34m\u001b[0m\u001b[0;34m\u001b[0m\u001b[0m\n",
      "\u001b[0;32m~/.local/lib/python3.6/site-packages/keras/utils/vis_utils.py\u001b[0m in \u001b[0;36mplot_model\u001b[0;34m(model, to_file, show_shapes, show_layer_names, rankdir, expand_nested, dpi)\u001b[0m\n\u001b[1;32m    238\u001b[0m     \"\"\"\n\u001b[1;32m    239\u001b[0m     dot = model_to_dot(model, show_shapes, show_layer_names, rankdir,\n\u001b[0;32m--> 240\u001b[0;31m                        expand_nested, dpi)\n\u001b[0m\u001b[1;32m    241\u001b[0m     \u001b[0m_\u001b[0m\u001b[0;34m,\u001b[0m \u001b[0mextension\u001b[0m \u001b[0;34m=\u001b[0m \u001b[0mos\u001b[0m\u001b[0;34m.\u001b[0m\u001b[0mpath\u001b[0m\u001b[0;34m.\u001b[0m\u001b[0msplitext\u001b[0m\u001b[0;34m(\u001b[0m\u001b[0mto_file\u001b[0m\u001b[0;34m)\u001b[0m\u001b[0;34m\u001b[0m\u001b[0;34m\u001b[0m\u001b[0m\n\u001b[1;32m    242\u001b[0m     \u001b[0;32mif\u001b[0m \u001b[0;32mnot\u001b[0m \u001b[0mextension\u001b[0m\u001b[0;34m:\u001b[0m\u001b[0;34m\u001b[0m\u001b[0;34m\u001b[0m\u001b[0m\n",
      "\u001b[0;32m~/.local/lib/python3.6/site-packages/keras/utils/vis_utils.py\u001b[0m in \u001b[0;36mmodel_to_dot\u001b[0;34m(model, show_shapes, show_layer_names, rankdir, expand_nested, dpi, subgraph)\u001b[0m\n\u001b[1;32m     77\u001b[0m     \u001b[0;32mfrom\u001b[0m \u001b[0;34m.\u001b[0m\u001b[0;34m.\u001b[0m\u001b[0mmodels\u001b[0m \u001b[0;32mimport\u001b[0m \u001b[0mSequential\u001b[0m\u001b[0;34m\u001b[0m\u001b[0;34m\u001b[0m\u001b[0m\n\u001b[1;32m     78\u001b[0m \u001b[0;34m\u001b[0m\u001b[0m\n\u001b[0;32m---> 79\u001b[0;31m     \u001b[0m_check_pydot\u001b[0m\u001b[0;34m(\u001b[0m\u001b[0;34m)\u001b[0m\u001b[0;34m\u001b[0m\u001b[0;34m\u001b[0m\u001b[0m\n\u001b[0m\u001b[1;32m     80\u001b[0m     \u001b[0;32mif\u001b[0m \u001b[0msubgraph\u001b[0m\u001b[0;34m:\u001b[0m\u001b[0;34m\u001b[0m\u001b[0;34m\u001b[0m\u001b[0m\n\u001b[1;32m     81\u001b[0m         \u001b[0mdot\u001b[0m \u001b[0;34m=\u001b[0m \u001b[0mpydot\u001b[0m\u001b[0;34m.\u001b[0m\u001b[0mCluster\u001b[0m\u001b[0;34m(\u001b[0m\u001b[0mstyle\u001b[0m\u001b[0;34m=\u001b[0m\u001b[0;34m'dashed'\u001b[0m\u001b[0;34m,\u001b[0m \u001b[0mgraph_name\u001b[0m\u001b[0;34m=\u001b[0m\u001b[0mmodel\u001b[0m\u001b[0;34m.\u001b[0m\u001b[0mname\u001b[0m\u001b[0;34m)\u001b[0m\u001b[0;34m\u001b[0m\u001b[0;34m\u001b[0m\u001b[0m\n",
      "\u001b[0;32m~/.local/lib/python3.6/site-packages/keras/utils/vis_utils.py\u001b[0m in \u001b[0;36m_check_pydot\u001b[0;34m()\u001b[0m\n\u001b[1;32m     29\u001b[0m     \u001b[0;32mexcept\u001b[0m \u001b[0mOSError\u001b[0m\u001b[0;34m:\u001b[0m\u001b[0;34m\u001b[0m\u001b[0;34m\u001b[0m\u001b[0m\n\u001b[1;32m     30\u001b[0m         raise OSError(\n\u001b[0;32m---> 31\u001b[0;31m             \u001b[0;34m'`pydot` failed to call GraphViz.'\u001b[0m\u001b[0;34m\u001b[0m\u001b[0;34m\u001b[0m\u001b[0m\n\u001b[0m\u001b[1;32m     32\u001b[0m             \u001b[0;34m'Please install GraphViz (https://www.graphviz.org/) '\u001b[0m\u001b[0;34m\u001b[0m\u001b[0;34m\u001b[0m\u001b[0m\n\u001b[1;32m     33\u001b[0m             'and ensure that its executables are in the $PATH.')\n",
      "\u001b[0;31mOSError\u001b[0m: `pydot` failed to call GraphViz.Please install GraphViz (https://www.graphviz.org/) and ensure that its executables are in the $PATH."
     ]
    }
   ],
   "source": [
    "n_folds = 2\n",
    "kf = KFold(n_splits=n_folds, shuffle=True, random_state=42)\n",
    "loss_accum = 0\n",
    "class_loss_accum = 0\n",
    "n_neighbors = 400\n",
    "for train_index, test_index in kf.split(clean_X, clean_y):\n",
    "    \n",
    "    nn_regression_model = Sequential()\n",
    "    nn_regression_model.add(Dense(2, input_dim=2))\n",
    "    nn_regression_model.add(Dense(6, activation='elu'))\n",
    "    nn_regression_model.add(Dense(10, activation='elu'))\n",
    "    nn_regression_model.add(Dense(4, activation='elu'))\n",
    "    nn_regression_model.add(Dense(3, activation='elu'))\n",
    "    nn_regression_model.add(Dense(2, activation='elu'))\n",
    "    nn_regression_model.add(Dense(1))\n",
    "    \n",
    "    plot_model(nn_regression_model, show_shapes=True, show_layer_names=True)\n",
    "\n",
    "    nn_classifier_model = Sequential()\n",
    "    nn_classifier_model.add(Dense(2, input_dim=2))\n",
    "    nn_classifier_model.add(Dense(6, activation='elu'))\n",
    "    nn_classifier_model.add(Dense(10, activation='elu'))\n",
    "    nn_classifier_model.add(Dense(4, activation='elu'))\n",
    "    nn_classifier_model.add(Dense(3, activation='elu'))\n",
    "    nn_classifier_model.add(Dense(2, activation='elu'))\n",
    "    nn_classifier_model.add(Dense(1, activation='sigmoid'))\n",
    "\n",
    "    optimizer = keras.optimizers.Adam(lr=0.008)\n",
    "    nn_regression_model.compile(optimizer=optimizer, loss=root_mean_squared_error)\n",
    "\n",
    "    nn_classifier_model.compile(optimizer=optimizer, loss='binary_crossentropy')\n",
    "\n",
    "    X_train, X_test = clean_X[train_index], clean_X[test_index]\n",
    "    y_train, y_test = clean_y[train_index], clean_y[test_index]\n",
    "    y_train_sep = np.array(list(map(separates, y_train)))\n",
    "    y_test_sep = np.array(list(map(separates, y_test)))\n",
    "    \n",
    "    aoa_mean = np.mean(list(map(lambda x: x[0], X_train)))\n",
    "    re_mean = np.mean(list(map(lambda x: x[1], X_train)))\n",
    "    aoa_std = np.std(list(map(lambda x: x[0], X_train)))\n",
    "    re_std = np.std(list(map(lambda x: x[1], X_train)))\n",
    "    \n",
    "    normalized_X_train = normalize_input_data(X_train, aoa_mean, aoa_std, re_mean, re_std)\n",
    "    normalized_X_test = normalize_input_data(X_test, aoa_mean, aoa_std, re_mean, re_std)\n",
    "    \n",
    "    history = nn_regression_model.fit(normalized_X_train, y_train, epochs=150, batch_size=16, validation_data=(normalized_X_test, y_test))\n",
    "    history_class = nn_classifier_model.fit(normalized_X_train, y_train_sep, epochs=100, batch_size=16, validation_data=(normalized_X_test, y_test_sep))\n",
    "    y_hat = nn_regression_model.predict(normalized_X_test)\n",
    "    y_hat_classify = nn_classifier_model.predict(normalized_X_test)\n",
    "    \n",
    "    l = loss(y_hat, y_test.reshape(-1,1))\n",
    "    l_class = loss(y_hat_classify, y_test_sep.reshape(-1, 1))\n",
    "    print(\"reg loss: \" + str(l))\n",
    "    print(\"class loss: \" + str(l_class))\n",
    "    loss_accum += l\n",
    "    class_loss_accum += l_class\n",
    "print(\"K-fold regression loss: \" + str(loss_accum/n_folds))\n",
    "print(\"K-fold classific loss: \" + str(class_loss_accum/n_folds))\n",
    "print(\"Dataset size: \" + str(dataset_size))"
   ]
  },
  {
   "cell_type": "code",
   "execution_count": 42,
   "metadata": {},
   "outputs": [
    {
     "data": {
      "text/plain": [
       "{'val_loss': [0.10172293978658589,\n",
       "  0.08380654934123591,\n",
       "  0.05219785513885939,\n",
       "  0.04680706803440125,\n",
       "  0.0437651531161953,\n",
       "  0.056957114260910324,\n",
       "  0.04320194773246287,\n",
       "  0.0399092276989549,\n",
       "  0.03801450296890574,\n",
       "  0.04493160222294944,\n",
       "  0.0413821097787621,\n",
       "  0.040714742532954686,\n",
       "  0.040694218647722116,\n",
       "  0.040490152663776445,\n",
       "  0.03110548567091704,\n",
       "  0.03806399524471285,\n",
       "  0.06483387388649255,\n",
       "  0.047510765363215475,\n",
       "  0.02682803966090573,\n",
       "  0.032480380366370805,\n",
       "  0.0349878300363252,\n",
       "  0.03804428256846373,\n",
       "  0.04283330081538721,\n",
       "  0.029637071168918443,\n",
       "  0.025911407952324796,\n",
       "  0.030800119049602136,\n",
       "  0.035612819388479974,\n",
       "  0.029641068599959637,\n",
       "  0.03214107401222279,\n",
       "  0.0279614850518436,\n",
       "  0.027305152245600865,\n",
       "  0.020131861210964636,\n",
       "  0.030320060913175403,\n",
       "  0.02804362413255458,\n",
       "  0.03253070007094562,\n",
       "  0.025563890323388738,\n",
       "  0.025438454715495416,\n",
       "  0.05013637420517794,\n",
       "  0.02593384203960402,\n",
       "  0.0267177556841355,\n",
       "  0.028020004765265685,\n",
       "  0.043560080702202235,\n",
       "  0.017432007772894845,\n",
       "  0.022784667702056685,\n",
       "  0.028980601506894976,\n",
       "  0.022344773602843055,\n",
       "  0.020284621740332884,\n",
       "  0.0470195503210076,\n",
       "  0.03715761982235964,\n",
       "  0.019048022823246122,\n",
       "  0.03199162494528109,\n",
       "  0.03268833588124244,\n",
       "  0.02219403672754419,\n",
       "  0.031114394075779435,\n",
       "  0.019719479292112346,\n",
       "  0.02636778846066049,\n",
       "  0.022471138288769548,\n",
       "  0.02335164178256486,\n",
       "  0.02645077698321822,\n",
       "  0.018984836618086354,\n",
       "  0.023682072329941985,\n",
       "  0.02162524241038978,\n",
       "  0.032792635766403816,\n",
       "  0.029083142150733873,\n",
       "  0.033340361882613634,\n",
       "  0.02631669070903118,\n",
       "  0.016310994659246052,\n",
       "  0.01926656829362566,\n",
       "  0.02199355075838372,\n",
       "  0.017364429183866346,\n",
       "  0.023170855126885888,\n",
       "  0.021817658734246657,\n",
       "  0.017479506517603733,\n",
       "  0.03570726075762706,\n",
       "  0.015429320058837619,\n",
       "  0.028125667872494608,\n",
       "  0.02007282705801022,\n",
       "  0.025681987303945036,\n",
       "  0.02491702493532368,\n",
       "  0.017040068362938598,\n",
       "  0.022240818959140225,\n",
       "  0.016582311815591222,\n",
       "  0.03565187247134961,\n",
       "  0.01563788104506941,\n",
       "  0.016045499636253027,\n",
       "  0.027579293555689964,\n",
       "  0.019520993090488693,\n",
       "  0.019195055960167767,\n",
       "  0.021329955666234114,\n",
       "  0.016079562487408546,\n",
       "  0.019325926586466785,\n",
       "  0.024430846046058306,\n",
       "  0.03643462961860275,\n",
       "  0.025922665977760488,\n",
       "  0.03628645813528528,\n",
       "  0.01632125265500013,\n",
       "  0.02501069486314139,\n",
       "  0.02587034437279406,\n",
       "  0.01680601417038381,\n",
       "  0.023621086793189697,\n",
       "  0.023198812782072697,\n",
       "  0.015116513306833444,\n",
       "  0.028599118975998122,\n",
       "  0.02232491072966236,\n",
       "  0.02914103442295031,\n",
       "  0.014422810602234225,\n",
       "  0.02061917040158402,\n",
       "  0.02884880419842164,\n",
       "  0.018616866846379736,\n",
       "  0.018003686941886317,\n",
       "  0.016458099387312304,\n",
       "  0.031500831174320135,\n",
       "  0.01657683568749022,\n",
       "  0.017715307190380197,\n",
       "  0.029603286471570945,\n",
       "  0.020174476557647238,\n",
       "  0.022721505455485395,\n",
       "  0.019626937453532358,\n",
       "  0.038048177056835976,\n",
       "  0.020498347034537356,\n",
       "  0.018894002889958527,\n",
       "  0.023419484294360103,\n",
       "  0.043589065190065994,\n",
       "  0.017530194979081763,\n",
       "  0.028656110001774773,\n",
       "  0.016925734484017012,\n",
       "  0.02210843547227535,\n",
       "  0.019280132670063576,\n",
       "  0.015113135118837284,\n",
       "  0.01459090440845697,\n",
       "  0.023128218480477712,\n",
       "  0.025472392283048574,\n",
       "  0.030001181882141407,\n",
       "  0.01788529693158037,\n",
       "  0.014816138410591295,\n",
       "  0.028757683086124333,\n",
       "  0.027260069088646477,\n",
       "  0.022534053518690846,\n",
       "  0.016768437021230015,\n",
       "  0.0240689010559302,\n",
       "  0.022235827632176346,\n",
       "  0.013058726356961049,\n",
       "  0.01628484310693967,\n",
       "  0.01639896036779627,\n",
       "  0.017320276092111026,\n",
       "  0.029300993510181485,\n",
       "  0.025502970265638896,\n",
       "  0.027075816334965613,\n",
       "  0.012472189465678176,\n",
       "  0.022314893092592634],\n",
       " 'loss': [0.16802051171012547,\n",
       "  0.10253359278043112,\n",
       "  0.080360958095334,\n",
       "  0.06116273933706652,\n",
       "  0.05350408443218268,\n",
       "  0.05018013990011768,\n",
       "  0.05028007225209964,\n",
       "  0.04908551789532249,\n",
       "  0.04852308612946727,\n",
       "  0.04973713508334713,\n",
       "  0.04867121486020261,\n",
       "  0.044885540184911324,\n",
       "  0.04461798715058732,\n",
       "  0.04303308601180712,\n",
       "  0.043411112785483326,\n",
       "  0.03731652969755412,\n",
       "  0.04204431408701312,\n",
       "  0.04531674860180288,\n",
       "  0.043800192293913465,\n",
       "  0.03733365641195993,\n",
       "  0.033596715727002145,\n",
       "  0.04109913530053148,\n",
       "  0.0353043197253764,\n",
       "  0.03478943048323986,\n",
       "  0.04020230088041025,\n",
       "  0.035139624823046764,\n",
       "  0.03726180778897327,\n",
       "  0.03814068985698016,\n",
       "  0.03410472251780799,\n",
       "  0.036544798577321326,\n",
       "  0.03734855401703125,\n",
       "  0.030999132128801322,\n",
       "  0.031206409678151067,\n",
       "  0.033989724502471334,\n",
       "  0.03438843568822972,\n",
       "  0.029316532566855496,\n",
       "  0.029804039667337988,\n",
       "  0.035426054031088734,\n",
       "  0.04056125319594346,\n",
       "  0.03357050597019817,\n",
       "  0.030411640827314578,\n",
       "  0.02669702275219747,\n",
       "  0.040311895165106526,\n",
       "  0.02643435313793772,\n",
       "  0.028250281704400762,\n",
       "  0.0267883429546719,\n",
       "  0.030644831679095538,\n",
       "  0.033466748558524724,\n",
       "  0.032567905170330105,\n",
       "  0.027911429206170322,\n",
       "  0.03090301592280899,\n",
       "  0.04025508063138971,\n",
       "  0.02842572689380335,\n",
       "  0.0294328308875722,\n",
       "  0.02635128705397896,\n",
       "  0.03456106331505349,\n",
       "  0.042407669044203226,\n",
       "  0.0281123340372806,\n",
       "  0.027513625324312327,\n",
       "  0.02730907261515585,\n",
       "  0.02674915731529107,\n",
       "  0.02799893057036803,\n",
       "  0.030479748035974547,\n",
       "  0.039111396616351775,\n",
       "  0.02956090674236201,\n",
       "  0.04203035274457528,\n",
       "  0.027554646670674355,\n",
       "  0.026763369934858332,\n",
       "  0.02838909886687418,\n",
       "  0.02570855146732883,\n",
       "  0.0330028525657124,\n",
       "  0.02847887764590374,\n",
       "  0.02670853852973756,\n",
       "  0.036790433576429526,\n",
       "  0.029221556147623465,\n",
       "  0.02585968207657913,\n",
       "  0.041057501987054726,\n",
       "  0.02753778414953734,\n",
       "  0.03599231396464334,\n",
       "  0.027173744138456198,\n",
       "  0.02684116525494534,\n",
       "  0.03037759643497962,\n",
       "  0.024938850979442182,\n",
       "  0.028627295918078815,\n",
       "  0.023669736600224523,\n",
       "  0.028789610089959155,\n",
       "  0.02766104311938735,\n",
       "  0.029423778372758252,\n",
       "  0.027099586242207006,\n",
       "  0.032205621470755716,\n",
       "  0.026379525434711705,\n",
       "  0.025812739074446152,\n",
       "  0.0762643680372388,\n",
       "  0.03380468699739175,\n",
       "  0.02865119235239167,\n",
       "  0.029538387400300608,\n",
       "  0.02676902830168821,\n",
       "  0.024926815390730824,\n",
       "  0.02443487309459327,\n",
       "  0.036190642959073836,\n",
       "  0.027073599250564254,\n",
       "  0.025915199095284305,\n",
       "  0.02282313790694239,\n",
       "  0.023089026387978866,\n",
       "  0.026122369583030255,\n",
       "  0.026241971779128778,\n",
       "  0.023250968925258964,\n",
       "  0.028670302918855695,\n",
       "  0.027393236752725453,\n",
       "  0.02594372391844717,\n",
       "  0.022457170761797738,\n",
       "  0.026557749531407288,\n",
       "  0.027626682621773313,\n",
       "  0.02179904410138654,\n",
       "  0.03124744764704635,\n",
       "  0.025640675618092794,\n",
       "  0.022251023415134148,\n",
       "  0.023230737217382533,\n",
       "  0.026994777891946875,\n",
       "  0.02389061666197247,\n",
       "  0.027725469513575813,\n",
       "  0.023863438872737442,\n",
       "  0.025435484810799793,\n",
       "  0.030739556515706333,\n",
       "  0.02331462226772078,\n",
       "  0.02971903468315728,\n",
       "  0.026528174755869858,\n",
       "  0.022223585056689914,\n",
       "  0.022743312605085293,\n",
       "  0.024553629030711985,\n",
       "  0.02411074719891168,\n",
       "  0.025310498063906957,\n",
       "  0.038562065962216126,\n",
       "  0.030313164811887314,\n",
       "  0.02382687018005456,\n",
       "  0.02409199073118864,\n",
       "  0.025977417043801666,\n",
       "  0.02543197748777659,\n",
       "  0.03018864215068195,\n",
       "  0.02515189824760824,\n",
       "  0.024170963500360937,\n",
       "  0.024759795224285067,\n",
       "  0.023115036773364902,\n",
       "  0.02053066078159544,\n",
       "  0.02466289289025725,\n",
       "  0.02348579725448564,\n",
       "  0.026358895298939398,\n",
       "  0.025749548918743065,\n",
       "  0.02008948841082733,\n",
       "  0.024550629072431204]}"
      ]
     },
     "execution_count": 42,
     "metadata": {},
     "output_type": "execute_result"
    }
   ],
   "source": [
    "history.history"
   ]
  },
  {
   "cell_type": "code",
   "execution_count": 43,
   "metadata": {},
   "outputs": [
    {
     "data": {
      "text/plain": [
       "[<matplotlib.lines.Line2D at 0x7f6f1ae38278>]"
      ]
     },
     "execution_count": 43,
     "metadata": {},
     "output_type": "execute_result"
    },
    {
     "data": {
      "image/png": "[encoded data removed]",
      "text/plain": [
       "<Figure size 432x288 with 1 Axes>"
      ]
     },
     "metadata": {
      "needs_background": "light"
     },
     "output_type": "display_data"
    }
   ],
   "source": [
    "#plt.plot(history.history['loss'][20:])\n",
    "plt.plot(history.history['val_loss'][20:])"
   ]
  },
  {
   "cell_type": "markdown",
   "metadata": {},
   "source": [
    "Classification Boosting"
   ]
  },
  {
   "cell_type": "code",
   "execution_count": 274,
   "metadata": {},
   "outputs": [],
   "source": [
    "# Now we combine the greater certainty of the classifier to fix regression 1's values\n",
    "\n",
    "def boost_predictions(regression_preds, classification_preds, proba=0):\n",
    "    #rmask = (np.random.uniform(0,1,regression_preds.shape[0])>=proba).astype(np.double).reshape(-1,1)\n",
    "    #cpmask = 1.0 - rmask\n",
    "    #r = (regression_preds - 1).reshape(-1,1)\n",
    "    #q = np.multiply(r,classification_preds)\n",
    "    #res = q + 1\n",
    "    #return res\n",
    "    #return regression_preds\n",
    "    res = np.zeros(regression_preds.shape)\n",
    "    for i in range(0, regression_preds.shape[0]):\n",
    "        if(classification_preds[i] == 0 and regression_preds[i] > 0.95 and np.random.uniform()<proba):\n",
    "            res[i]=1.0\n",
    "        else:\n",
    "            res[i]=regression_preds[i]\n",
    "    return res.reshape(-1,1)\n",
    "    #return np.multiply(regression_preds.reshape(-1, 1), rmask) + np.multiply(res, cpmask)"
   ]
  },
  {
   "cell_type": "code",
   "execution_count": 294,
   "metadata": {},
   "outputs": [
    {
     "name": "stdout",
     "output_type": "stream",
     "text": [
      "[23:17:17] WARNING: /workspace/src/objective/regression_obj.cu:152: reg:linear is now deprecated in favor of reg:squarederror.\n",
      "acc 0.00964630225080386\n",
      ">>>>: 3.112484727912403, oneerr: 32\n",
      "Base xgb performance: 0.010007989478818024\n",
      "0   #####: [3.00243685], oneerr: 0\n",
      "Boosted xgb performance: 0.009654137784815229\n",
      "XGB improvement: 3.535692106308909\n",
      " \n",
      " \n",
      "[23:17:20] WARNING: /workspace/src/objective/regression_obj.cu:152: reg:linear is now deprecated in favor of reg:squarederror.\n",
      "acc 0.012861736334405145\n",
      ">>>>: 3.8618948897444203, oneerr: 49\n",
      "Base xgb performance: 0.01241766845576984\n",
      "1   #####: [3.71021567], oneerr: 3\n",
      "Boosted xgb performance: 0.011929953929032223\n",
      "XGB improvement: 3.927585347239657\n",
      " \n",
      " \n",
      "[23:17:24] WARNING: /workspace/src/objective/regression_obj.cu:152: reg:linear is now deprecated in favor of reg:squarederror.\n",
      "acc 0.00964630225080386\n",
      ">>>>: 3.119013103408237, oneerr: 47\n",
      "Base xgb performance: 0.010028981039897866\n",
      "2   #####: [2.93165633], oneerr: 5\n",
      "Boosted xgb performance: 0.00942654769572229\n",
      "XGB improvement: 6.006924749173835\n",
      " \n",
      " \n",
      "[23:17:28] WARNING: /workspace/src/objective/regression_obj.cu:152: reg:linear is now deprecated in favor of reg:squarederror.\n",
      "acc 0.012861736334405145\n",
      ">>>>: 2.8763147002901457, oneerr: 30\n",
      "Base xgb performance: 0.00924860032247635\n",
      "3   #####: [2.77661938], oneerr: 1\n",
      "Boosted xgb performance: 0.008928036576824368\n",
      "XGB improvement: 3.4660784818750825\n",
      " \n",
      " \n",
      "[23:17:32] WARNING: /workspace/src/objective/regression_obj.cu:152: reg:linear is now deprecated in favor of reg:squarederror.\n",
      "acc 0.00964630225080386\n",
      ">>>>: 3.18303760310169, oneerr: 45\n",
      "Base xgb performance: 0.01023484759839771\n",
      "4   #####: [3.10563066], oneerr: 4\n",
      "Boosted xgb performance: 0.00998595067606848\n",
      "XGB improvement: 2.4318576308668822\n",
      " \n",
      " \n",
      "[23:17:36] WARNING: /workspace/src/objective/regression_obj.cu:152: reg:linear is now deprecated in favor of reg:squarederror.\n",
      "acc 0.012861736334405145\n",
      ">>>>: 3.457140774289056, oneerr: 48\n",
      "Base xgb performance: 0.011116208277456774\n",
      "5   #####: [3.29495421], oneerr: 3\n",
      "Boosted xgb performance: 0.010594708074836244\n",
      "XGB improvement: 4.6913496905065255\n",
      " \n",
      " \n",
      "[23:17:40] WARNING: /workspace/src/objective/regression_obj.cu:152: reg:linear is now deprecated in favor of reg:squarederror.\n",
      "acc 0.01929260450160772\n",
      ">>>>: 3.3682238323833187, oneerr: 31\n",
      "Base xgb performance: 0.010830301711843465\n",
      "6   #####: [3.24347429], oneerr: 3\n",
      "Boosted xgb performance: 0.010429177784889594\n",
      "XGB improvement: 3.7037188586835255\n",
      " \n",
      " \n",
      "[23:17:44] WARNING: /workspace/src/objective/regression_obj.cu:152: reg:linear is now deprecated in favor of reg:squarederror.\n",
      "acc 0.012861736334405145\n",
      ">>>>: 3.8867657399066564, oneerr: 40\n",
      "Base xgb performance: 0.01249763903506964\n",
      "7   #####: [3.85357221], oneerr: 3\n",
      "Boosted xgb performance: 0.012390907431686388\n",
      "XGB improvement: 0.8540141308590543\n",
      " \n",
      " \n",
      "[23:17:48] WARNING: /workspace/src/objective/regression_obj.cu:152: reg:linear is now deprecated in favor of reg:squarederror.\n",
      "acc 0.03215434083601286\n",
      ">>>>: 3.9149093507716355, oneerr: 31\n",
      "Base xgb performance: 0.01258813296068051\n",
      "8   #####: [3.79916655], oneerr: 6\n",
      "Boosted xgb performance: 0.012215969608204836\n",
      "XGB improvement: 2.9564618807105028\n",
      " \n",
      " \n",
      "[23:17:52] WARNING: /workspace/src/objective/regression_obj.cu:152: reg:linear is now deprecated in favor of reg:squarederror.\n",
      "acc 0.01607717041800643\n",
      ">>>>: 3.1400444942022894, oneerr: 39\n",
      "Base xgb performance: 0.010096606090682596\n",
      "9   #####: [3.02633534], oneerr: 2\n",
      "Boosted xgb performance: 0.00973098180854484\n",
      "XGB improvement: 3.6212592514148234\n",
      " \n",
      " \n",
      "[23:17:56] WARNING: /workspace/src/objective/regression_obj.cu:152: reg:linear is now deprecated in favor of reg:squarederror.\n",
      "acc 0.01607717041800643\n",
      ">>>>: 3.7723371549671008, oneerr: 42\n",
      "Base xgb performance: 0.012129701462916725\n",
      "10   #####: [3.6166314], oneerr: 3\n",
      "Boosted xgb performance: 0.011629039887390823\n",
      "XGB improvement: 4.127567171018508\n",
      " \n",
      " \n",
      "[23:18:00] WARNING: /workspace/src/objective/regression_obj.cu:152: reg:linear is now deprecated in favor of reg:squarederror.\n",
      "acc 0.01607717041800643\n",
      ">>>>: 3.3901087449856764, oneerr: 38\n",
      "Base xgb performance: 0.010900671205741726\n",
      "11   #####: [3.37691508], oneerr: 3\n",
      "Boosted xgb performance: 0.01085824783939135\n",
      "XGB improvement: 0.38918123067532906\n",
      " \n",
      " \n",
      "[23:18:04] WARNING: /workspace/src/objective/regression_obj.cu:152: reg:linear is now deprecated in favor of reg:squarederror.\n",
      "acc 0.00964630225080386\n",
      ">>>>: 3.1380907494810284, oneerr: 35\n",
      "Base xgb performance: 0.010090323953315201\n",
      "12   #####: [3.04256894], oneerr: 1\n",
      "Boosted xgb performance: 0.009783179877203969\n",
      "XGB improvement: 3.043946631766163\n",
      " \n",
      " \n",
      "[23:18:08] WARNING: /workspace/src/objective/regression_obj.cu:152: reg:linear is now deprecated in favor of reg:squarederror.\n",
      "acc 0.01929260450160772\n",
      ">>>>: 3.400589971994067, oneerr: 41\n",
      "Base xgb performance: 0.010934372900302471\n",
      "13   #####: [3.30875465], oneerr: 4\n",
      "Boosted xgb performance: 0.010639082482309287\n",
      "XGB improvement: 2.7005702172917037\n",
      " \n",
      " \n",
      "[23:18:12] WARNING: /workspace/src/objective/regression_obj.cu:152: reg:linear is now deprecated in favor of reg:squarederror.\n",
      "acc 0.01929260450160772\n",
      ">>>>: 3.6381651277758262, oneerr: 32\n",
      "Base xgb performance: 0.011698280153620025\n",
      "14   #####: [3.55363603], oneerr: 3\n",
      "Boosted xgb performance: 0.011426482398479824\n",
      "XGB improvement: 2.3233992652851065\n",
      " \n",
      " \n",
      "[23:18:16] WARNING: /workspace/src/objective/regression_obj.cu:152: reg:linear is now deprecated in favor of reg:squarederror.\n",
      "acc 0.01607717041800643\n",
      ">>>>: 3.3458377005055375, oneerr: 47\n",
      "Base xgb performance: 0.010758320580403663\n",
      "15   #####: [3.30152421], oneerr: 5\n",
      "Boosted xgb performance: 0.010615833473037817\n",
      "XGB improvement: 1.324436340234986\n",
      " \n",
      " \n",
      "[23:18:20] WARNING: /workspace/src/objective/regression_obj.cu:152: reg:linear is now deprecated in favor of reg:squarederror.\n",
      "acc 0.006430868167202572\n",
      ">>>>: 2.3977032821867947, oneerr: 29\n",
      "Base xgb performance: 0.007709656855906094\n",
      "16   #####: [2.31891035], oneerr: 1\n",
      "Boosted xgb performance: 0.007456303384364766\n",
      "XGB improvement: 3.2861835004659516\n",
      " \n",
      " \n",
      "[23:18:24] WARNING: /workspace/src/objective/regression_obj.cu:152: reg:linear is now deprecated in favor of reg:squarederror.\n",
      "acc 0.012861736334405145\n",
      ">>>>: 4.037487673504364, oneerr: 42\n",
      "Base xgb performance: 0.012982275477505996\n",
      "17   #####: [3.95110868], oneerr: 6\n",
      "Boosted xgb performance: 0.012704529523795863\n",
      "XGB improvement: 2.139424280368838\n",
      " \n",
      " \n",
      "[23:18:28] WARNING: /workspace/src/objective/regression_obj.cu:152: reg:linear is now deprecated in favor of reg:squarederror.\n",
      "acc 0.00964630225080386\n",
      ">>>>: 2.83291327955292, oneerr: 31\n",
      "Base xgb performance: 0.009109045914961155\n",
      "18   #####: [2.75073266], oneerr: 3\n",
      "Boosted xgb performance: 0.00884479955084602\n",
      "XGB improvement: 2.900922517923895\n",
      " \n",
      " \n",
      "[23:18:32] WARNING: /workspace/src/objective/regression_obj.cu:152: reg:linear is now deprecated in favor of reg:squarederror.\n",
      "acc 0.022508038585209004\n",
      ">>>>: 3.6770295433213143, oneerr: 41\n",
      "Base xgb performance: 0.011823246120004237\n",
      "19   #####: [3.52250224], oneerr: 8\n",
      "Boosted xgb performance: 0.011326373751654715\n",
      "XGB improvement: 4.202503807383684\n",
      " \n",
      " \n",
      "Average xgb improvement: 3.081653854502648\n"
     ]
    }
   ],
   "source": [
    "xgb_impr_acc = 0\n",
    "nn_impr_acc = 0\n",
    "knn_impr_acc = 0\n",
    "n = 20\n",
    "for i in range(0,n):\n",
    "    X_train, X_test, y_train, y_test = train_test_split(clean_X, clean_y, test_size=0.2, random_state=242+10*i)\n",
    "    \n",
    "    y_train_sep = np.array(list(map(separates, y_train)))\n",
    "    y_test_sep = np.array(list(map(separates, y_test)))\n",
    "    \n",
    "    xgb_model = xgb.XGBRegressor(n_estimators=1000, max_depth=28, eta=0.01, subsample=1, colsample_bytree=1)\n",
    "    xgb_model.fit(X_train, y_train)\n",
    "    xgb_classify_model = xgb.XGBClassifier(n_estimators=8000, max_depth=28, eta=0.01, subsample=1, colsample_bytree=1)\n",
    "    xgb_classify_model.fit(X_train, y_train_sep)\n",
    "\n",
    "    aoa_mean = np.mean(list(map(lambda x: x[0], X_train)))\n",
    "    re_mean = np.mean(list(map(lambda x: x[1], X_train)))\n",
    "    aoa_std = np.std(list(map(lambda x: x[0], X_train)))\n",
    "    re_std = np.std(list(map(lambda x: x[1], X_train)))\n",
    "\n",
    "    normalized_X_train = normalize_input_data(X_train, aoa_mean, aoa_std, re_mean, re_std)\n",
    "    normalized_X_test = normalize_input_data(X_test, aoa_mean, aoa_std, re_mean, re_std)\n",
    "\n",
    "    y_hat_sep = xgb_classify_model.predict(X_test)\n",
    "    print(\"acc \" + str(acc(y_hat_sep, y_test_sep))) # y_test and y_test_sep are ground truth\n",
    "\n",
    "    xgb_y_hat = xgb_model.predict(X_test)\n",
    "    nn_y_hat = nn_regression_model.predict(normalized_X_test)\n",
    "    knn_y_hat = knn_regression_model.predict(X_test)\n",
    "    \n",
    "    #print(xgb_y_hat[0:40])\n",
    "    #print(y_test[0:40])\n",
    "    diff = 0\n",
    "    oneerr = 0\n",
    "    for j in range(0, y_test.shape[0]):\n",
    "        diff += abs(xgb_y_hat[j]-y_test[j])\n",
    "        #print(\"xbg : \" + str(xgb_y_hat[j]))\n",
    "        if(y_test[j]==1.0 and xgb_y_hat[j]!=1.0):\n",
    "            oneerr += 1\n",
    "    print(\">>>>: \" + str(diff) + \", oneerr: \" + str(oneerr))\n",
    "    \n",
    "    \n",
    "    \n",
    "    xgb_p = L1loss(xgb_y_hat.reshape(-1,1), y_test.reshape(-1, 1))\n",
    "    nn_p = L1loss(nn_y_hat, y_test.reshape(-1, 1))\n",
    "    knn_p = L1loss(knn_y_hat, y_test.reshape(-1, 1))\n",
    "    print(\"Base xgb performance: \" + str(xgb_p))\n",
    "    #print(\"Base nn performance: \" + str(nn_p))\n",
    "    #print(\"Base knn performance: \" + str(knn_p))\n",
    "\n",
    "    #print(xgb_y_hat.shape)\n",
    "    #print(xgb_y_hat[0:40])\n",
    "    #print(y_hat_sep[0:40])\n",
    "\n",
    "    xgb_y_hat_boosted = boost_predictions(xgb_y_hat, y_hat_sep.reshape(-1,1), 1)\n",
    "    nn_y_hat_boosted = boost_predictions(nn_y_hat, y_hat_sep.reshape(-1,1), 1)\n",
    "    knn_y_hat_boosted = boost_predictions(knn_y_hat, y_hat_sep.reshape(-1,1), 1)\n",
    "    \n",
    "\n",
    "    diff = 0\n",
    "    oneerr = 0\n",
    "    for j in range(0, y_test.shape[0]):\n",
    "        diff += abs(xgb_y_hat_boosted[j]-y_test[j])\n",
    "        #print(\"xbg : \" + str(xgb_y_hat[j]) + \", boosted: \" + str(xgb_y_hat_boosted[j][0]))\n",
    "        if(y_test[j]==1.0 and xgb_y_hat_boosted[j]!=1.0):\n",
    "            oneerr += 1\n",
    "        #if(xgb_y_hat[j] !=  xgb_y_hat_boosted[j]):\n",
    "        #    print(\"was \" + str(xgb_y_hat[j]) + \", became: \" + str(xgb_y_hat_boosted[j]) + \", and is really: \" + str(y_test[j]))\n",
    "    print(str(i) + \"   #####: \" + str(diff) + \", oneerr: \" + str(oneerr))\n",
    "      \n",
    "    xgb_b_p = L1loss(xgb_y_hat_boosted.reshape(-1,1), y_test.reshape(-1, 1))\n",
    "    nn_b_p = L1loss(nn_y_hat_boosted, y_test.reshape(-1, 1))\n",
    "    knn_b_p = L1loss(knn_y_hat_boosted, y_test.reshape(-1, 1))\n",
    "    print(\"Boosted xgb performance: \" + str(xgb_b_p))\n",
    "    #print(\"Boosted nn performance: \" + str(nn_b_p))\n",
    "    #print(\"Boosted knn performance: \" + str(knn_b_p))\n",
    "\n",
    "    print(\"XGB improvement: \" + str(100.0*((xgb_p - xgb_b_p)/xgb_p)))\n",
    "    #print(\"NN performance: \" + str(100.0*((nn_p - nn_b_p)/nn_p)))\n",
    "    #print(\"KNN performance: \" + str(100.0*((knn_p - knn_b_p)/knn_p)))\n",
    "    \n",
    "    xgb_impr_acc += 100.0*((xgb_p - xgb_b_p)/xgb_p)\n",
    "    nn_impr_acc += 100.0*((nn_p - nn_b_p)/nn_p)\n",
    "    knn_impr_acc += 100.0*((knn_p - knn_b_p)/knn_p)\n",
    "    \n",
    "    print(\" \")\n",
    "    print(\" \")\n",
    "    \n",
    "print(\"Average xgb improvement: \" + str(xgb_impr_acc/n))\n",
    "#print(\"Average nn improvement: \" + str(nn_impr_acc/n))\n",
    "#print(\"Average knn improvement: \" + str(knn_impr_acc/n))"
   ]
  },
  {
   "cell_type": "code",
   "execution_count": null,
   "metadata": {},
   "outputs": [],
   "source": [
    "percent_boost_improvement = (loss(y_hat, test_y)-loss(y_hat_boosted, test_y))/loss(y_hat, test_y)*100\n",
    "print(\"Boost improvement: \" + str(percent_boost_improvement) + \" %\")"
   ]
  },
  {
   "cell_type": "markdown",
   "metadata": {},
   "source": [
    "Simplified stacking:"
   ]
  },
  {
   "cell_type": "code",
   "execution_count": null,
   "metadata": {},
   "outputs": [],
   "source": [
    "# Let's build a new linear model (single)"
   ]
  },
  {
   "cell_type": "code",
   "execution_count": 334,
   "metadata": {},
   "outputs": [
    {
     "name": "stdout",
     "output_type": "stream",
     "text": [
      "[00:34:47] WARNING: /workspace/src/objective/regression_obj.cu:152: reg:linear is now deprecated in favor of reg:squarederror.\n",
      "Train on 868 samples, validate on 311 samples\n",
      "Epoch 1/150\n",
      "868/868 [==============================] - 9s 10ms/step - loss: 0.2727 - val_loss: 0.1362\n",
      "Epoch 2/150\n",
      "868/868 [==============================] - 1s 1ms/step - loss: 0.1046 - val_loss: 0.0989\n",
      "Epoch 3/150\n",
      "868/868 [==============================] - 1s 2ms/step - loss: 0.0953 - val_loss: 0.0691\n",
      "Epoch 4/150\n",
      "868/868 [==============================] - 1s 2ms/step - loss: 0.0585 - val_loss: 0.0513\n",
      "Epoch 5/150\n",
      "868/868 [==============================] - 1s 1ms/step - loss: 0.0497 - val_loss: 0.0562\n",
      "Epoch 6/150\n",
      "868/868 [==============================] - 1s 1ms/step - loss: 0.0455 - val_loss: 0.0515\n",
      "Epoch 7/150\n",
      "868/868 [==============================] - 1s 1ms/step - loss: 0.0444 - val_loss: 0.0466\n",
      "Epoch 8/150\n",
      "868/868 [==============================] - 1s 1ms/step - loss: 0.0443 - val_loss: 0.0481\n",
      "Epoch 9/150\n",
      "868/868 [==============================] - 1s 2ms/step - loss: 0.0411 - val_loss: 0.0403\n",
      "Epoch 10/150\n",
      "868/868 [==============================] - 1s 1ms/step - loss: 0.0368 - val_loss: 0.0370\n",
      "Epoch 11/150\n",
      "868/868 [==============================] - 1s 1ms/step - loss: 0.0390 - val_loss: 0.0373\n",
      "Epoch 12/150\n",
      "868/868 [==============================] - 1s 2ms/step - loss: 0.0387 - val_loss: 0.0426\n",
      "Epoch 13/150\n",
      "868/868 [==============================] - 1s 2ms/step - loss: 0.0369 - val_loss: 0.0329\n",
      "Epoch 14/150\n",
      "868/868 [==============================] - 1s 1ms/step - loss: 0.0356 - val_loss: 0.0426\n",
      "Epoch 15/150\n",
      "868/868 [==============================] - 1s 1ms/step - loss: 0.0358 - val_loss: 0.0457\n",
      "Epoch 16/150\n",
      "868/868 [==============================] - 2s 2ms/step - loss: 0.0368 - val_loss: 0.0383\n",
      "Epoch 17/150\n",
      "868/868 [==============================] - 2s 2ms/step - loss: 0.0326 - val_loss: 0.0321\n",
      "Epoch 18/150\n",
      "868/868 [==============================] - 1s 2ms/step - loss: 0.0317 - val_loss: 0.0352\n",
      "Epoch 19/150\n",
      "868/868 [==============================] - 1s 2ms/step - loss: 0.0352 - val_loss: 0.0367\n",
      "Epoch 20/150\n",
      "868/868 [==============================] - 1s 2ms/step - loss: 0.0324 - val_loss: 0.0359\n",
      "Epoch 21/150\n",
      "868/868 [==============================] - 1s 1ms/step - loss: 0.0376 - val_loss: 0.0333\n",
      "Epoch 22/150\n",
      "868/868 [==============================] - 1s 1ms/step - loss: 0.0297 - val_loss: 0.0296\n",
      "Epoch 23/150\n",
      "868/868 [==============================] - 1s 2ms/step - loss: 0.0367 - val_loss: 0.0337\n",
      "Epoch 24/150\n",
      "868/868 [==============================] - 1s 2ms/step - loss: 0.0295 - val_loss: 0.0326\n",
      "Epoch 25/150\n",
      "868/868 [==============================] - 1s 1ms/step - loss: 0.0328 - val_loss: 0.0339\n",
      "Epoch 26/150\n",
      "868/868 [==============================] - 1s 1ms/step - loss: 0.0309 - val_loss: 0.0302\n",
      "Epoch 27/150\n",
      "868/868 [==============================] - 1s 1ms/step - loss: 0.0279 - val_loss: 0.0389\n",
      "Epoch 28/150\n",
      "868/868 [==============================] - 1s 2ms/step - loss: 0.0271 - val_loss: 0.0301\n",
      "Epoch 29/150\n",
      "868/868 [==============================] - 1s 1ms/step - loss: 0.0276 - val_loss: 0.0283\n",
      "Epoch 30/150\n",
      "868/868 [==============================] - 1s 1ms/step - loss: 0.0247 - val_loss: 0.0266\n",
      "Epoch 31/150\n",
      "868/868 [==============================] - 1s 1ms/step - loss: 0.0236 - val_loss: 0.0391\n",
      "Epoch 32/150\n",
      "868/868 [==============================] - 1s 2ms/step - loss: 0.0288 - val_loss: 0.0326\n",
      "Epoch 33/150\n",
      "868/868 [==============================] - 1s 1ms/step - loss: 0.0348 - val_loss: 0.0324\n",
      "Epoch 34/150\n",
      "868/868 [==============================] - 1s 1ms/step - loss: 0.0256 - val_loss: 0.0366\n",
      "Epoch 35/150\n",
      "868/868 [==============================] - 1s 1ms/step - loss: 0.0310 - val_loss: 0.0351\n",
      "Epoch 36/150\n",
      "868/868 [==============================] - 1s 2ms/step - loss: 0.0287 - val_loss: 0.0356\n",
      "Epoch 37/150\n",
      "868/868 [==============================] - 1s 1ms/step - loss: 0.0255 - val_loss: 0.0273\n",
      "Epoch 38/150\n",
      "868/868 [==============================] - 1s 1ms/step - loss: 0.0277 - val_loss: 0.0418\n",
      "Epoch 39/150\n",
      "868/868 [==============================] - 1s 1ms/step - loss: 0.0217 - val_loss: 0.0394\n",
      "Epoch 40/150\n",
      "868/868 [==============================] - 1s 1ms/step - loss: 0.0325 - val_loss: 0.0387\n",
      "Epoch 41/150\n",
      "868/868 [==============================] - 1s 1ms/step - loss: 0.0248 - val_loss: 0.0323\n",
      "Epoch 42/150\n",
      "868/868 [==============================] - 1s 1ms/step - loss: 0.0215 - val_loss: 0.0271\n",
      "Epoch 43/150\n",
      "868/868 [==============================] - 1s 1ms/step - loss: 0.0238 - val_loss: 0.0297\n",
      "Epoch 44/150\n",
      "868/868 [==============================] - 1s 2ms/step - loss: 0.0262 - val_loss: 0.0270\n",
      "Epoch 45/150\n",
      "868/868 [==============================] - 1s 2ms/step - loss: 0.0267 - val_loss: 0.0413\n",
      "Epoch 46/150\n",
      "868/868 [==============================] - 1s 1ms/step - loss: 0.0256 - val_loss: 0.0271\n",
      "Epoch 47/150\n",
      "868/868 [==============================] - 1s 1ms/step - loss: 0.0227 - val_loss: 0.0252\n",
      "Epoch 48/150\n",
      "868/868 [==============================] - 1s 2ms/step - loss: 0.0238 - val_loss: 0.0299\n",
      "Epoch 49/150\n",
      "868/868 [==============================] - 1s 1ms/step - loss: 0.0242 - val_loss: 0.0393\n",
      "Epoch 50/150\n",
      "868/868 [==============================] - 1s 1ms/step - loss: 0.0314 - val_loss: 0.0393\n",
      "Epoch 51/150\n",
      "868/868 [==============================] - 1s 1ms/step - loss: 0.0309 - val_loss: 0.0297\n",
      "Epoch 52/150\n",
      "868/868 [==============================] - 1s 1ms/step - loss: 0.0291 - val_loss: 0.0244\n",
      "Epoch 53/150\n",
      "868/868 [==============================] - 1s 1ms/step - loss: 0.0289 - val_loss: 0.0271\n",
      "Epoch 54/150\n",
      "868/868 [==============================] - 1s 1ms/step - loss: 0.0261 - val_loss: 0.0307\n",
      "Epoch 55/150\n",
      "868/868 [==============================] - 1s 1ms/step - loss: 0.0225 - val_loss: 0.0275\n",
      "Epoch 56/150\n",
      "868/868 [==============================] - 1s 1ms/step - loss: 0.0209 - val_loss: 0.0271\n",
      "Epoch 57/150\n",
      "868/868 [==============================] - 1s 1ms/step - loss: 0.0277 - val_loss: 0.0330\n",
      "Epoch 58/150\n",
      "868/868 [==============================] - 1s 1ms/step - loss: 0.0211 - val_loss: 0.0344\n",
      "Epoch 59/150\n",
      "868/868 [==============================] - 1s 2ms/step - loss: 0.0282 - val_loss: 0.0245\n",
      "Epoch 60/150\n",
      "868/868 [==============================] - 1s 1ms/step - loss: 0.0227 - val_loss: 0.0365\n",
      "Epoch 61/150\n",
      "868/868 [==============================] - 1s 1ms/step - loss: 0.0287 - val_loss: 0.0266\n",
      "Epoch 62/150\n",
      "868/868 [==============================] - 1s 1ms/step - loss: 0.0236 - val_loss: 0.0268\n",
      "Epoch 63/150\n",
      "868/868 [==============================] - 1s 1ms/step - loss: 0.0252 - val_loss: 0.0289\n",
      "Epoch 64/150\n",
      "868/868 [==============================] - 1s 1ms/step - loss: 0.0179 - val_loss: 0.0246\n",
      "Epoch 65/150\n",
      "868/868 [==============================] - 1s 1ms/step - loss: 0.0247 - val_loss: 0.0333\n",
      "Epoch 66/150\n",
      "868/868 [==============================] - 1s 1ms/step - loss: 0.0277 - val_loss: 0.0393\n",
      "Epoch 67/150\n",
      "868/868 [==============================] - 1s 1ms/step - loss: 0.0248 - val_loss: 0.0273\n",
      "Epoch 68/150\n",
      "868/868 [==============================] - 1s 1ms/step - loss: 0.0296 - val_loss: 0.0245\n",
      "Epoch 69/150\n",
      "868/868 [==============================] - 2s 2ms/step - loss: 0.0216 - val_loss: 0.0258\n",
      "Epoch 70/150\n",
      "868/868 [==============================] - 1s 2ms/step - loss: 0.0219 - val_loss: 0.0231\n",
      "Epoch 71/150\n",
      "868/868 [==============================] - 1s 2ms/step - loss: 0.0231 - val_loss: 0.0360\n",
      "Epoch 72/150\n",
      "868/868 [==============================] - 1s 1ms/step - loss: 0.0217 - val_loss: 0.0325\n",
      "Epoch 73/150\n",
      "868/868 [==============================] - 1s 2ms/step - loss: 0.0213 - val_loss: 0.0254\n",
      "Epoch 74/150\n",
      "868/868 [==============================] - 1s 1ms/step - loss: 0.0241 - val_loss: 0.0251\n",
      "Epoch 75/150\n",
      "868/868 [==============================] - 1s 1ms/step - loss: 0.0252 - val_loss: 0.0326\n",
      "Epoch 76/150\n",
      "868/868 [==============================] - 1s 1ms/step - loss: 0.0225 - val_loss: 0.0315\n",
      "Epoch 77/150\n",
      "868/868 [==============================] - 1s 1ms/step - loss: 0.0209 - val_loss: 0.0230\n",
      "Epoch 78/150\n",
      "868/868 [==============================] - 1s 1ms/step - loss: 0.0194 - val_loss: 0.0274\n",
      "Epoch 79/150\n",
      "868/868 [==============================] - 1s 1ms/step - loss: 0.0232 - val_loss: 0.0340\n",
      "Epoch 80/150\n",
      "868/868 [==============================] - 1s 1ms/step - loss: 0.0244 - val_loss: 0.0383\n",
      "Epoch 81/150\n",
      "868/868 [==============================] - 1s 1ms/step - loss: 0.0264 - val_loss: 0.0403\n",
      "Epoch 82/150\n",
      "868/868 [==============================] - 1s 1ms/step - loss: 0.0206 - val_loss: 0.0284\n",
      "Epoch 83/150\n",
      "868/868 [==============================] - 1s 1ms/step - loss: 0.0211 - val_loss: 0.0353\n",
      "Epoch 84/150\n",
      "868/868 [==============================] - 1s 1ms/step - loss: 0.0235 - val_loss: 0.0335\n",
      "Epoch 85/150\n",
      "868/868 [==============================] - 1s 1ms/step - loss: 0.0222 - val_loss: 0.0283\n",
      "Epoch 86/150\n",
      "868/868 [==============================] - 1s 1ms/step - loss: 0.0257 - val_loss: 0.0237\n",
      "Epoch 87/150\n",
      "868/868 [==============================] - 1s 1ms/step - loss: 0.0176 - val_loss: 0.0345\n",
      "Epoch 88/150\n",
      "868/868 [==============================] - 1s 1ms/step - loss: 0.0228 - val_loss: 0.0364\n",
      "Epoch 89/150\n",
      "868/868 [==============================] - 1s 1ms/step - loss: 0.0281 - val_loss: 0.0276\n",
      "Epoch 90/150\n",
      "868/868 [==============================] - 1s 1ms/step - loss: 0.0207 - val_loss: 0.0248\n",
      "Epoch 91/150\n",
      "868/868 [==============================] - 1s 1ms/step - loss: 0.0209 - val_loss: 0.0268\n",
      "Epoch 92/150\n",
      "868/868 [==============================] - 1s 1ms/step - loss: 0.0256 - val_loss: 0.0218\n",
      "Epoch 93/150\n",
      "868/868 [==============================] - 1s 1ms/step - loss: 0.0205 - val_loss: 0.0308\n",
      "Epoch 94/150\n",
      "868/868 [==============================] - 1s 1ms/step - loss: 0.0251 - val_loss: 0.0286\n",
      "Epoch 95/150\n",
      "868/868 [==============================] - 1s 2ms/step - loss: 0.0205 - val_loss: 0.0291\n",
      "Epoch 96/150\n",
      "868/868 [==============================] - 1s 2ms/step - loss: 0.0233 - val_loss: 0.0313\n",
      "Epoch 97/150\n",
      "868/868 [==============================] - 1s 1ms/step - loss: 0.0219 - val_loss: 0.0295\n",
      "Epoch 98/150\n",
      "868/868 [==============================] - 1s 1ms/step - loss: 0.0204 - val_loss: 0.0243\n",
      "Epoch 99/150\n",
      "868/868 [==============================] - 1s 1ms/step - loss: 0.0235 - val_loss: 0.0278\n",
      "Epoch 100/150\n",
      "868/868 [==============================] - 1s 1ms/step - loss: 0.0311 - val_loss: 0.0375\n",
      "Epoch 101/150\n",
      "868/868 [==============================] - 1s 1ms/step - loss: 0.0234 - val_loss: 0.0267\n",
      "Epoch 102/150\n",
      "868/868 [==============================] - 1s 1ms/step - loss: 0.0171 - val_loss: 0.0241\n",
      "Epoch 103/150\n",
      "868/868 [==============================] - 1s 1ms/step - loss: 0.0237 - val_loss: 0.0281\n",
      "Epoch 104/150\n",
      "868/868 [==============================] - 1s 1ms/step - loss: 0.0216 - val_loss: 0.0232\n",
      "Epoch 105/150\n",
      "868/868 [==============================] - 1s 1ms/step - loss: 0.0193 - val_loss: 0.0270\n",
      "Epoch 106/150\n",
      "868/868 [==============================] - 1s 1ms/step - loss: 0.0221 - val_loss: 0.0266\n",
      "Epoch 107/150\n",
      "868/868 [==============================] - 1s 1ms/step - loss: 0.0226 - val_loss: 0.0299\n",
      "Epoch 108/150\n",
      "868/868 [==============================] - 1s 1ms/step - loss: 0.0223 - val_loss: 0.0438\n",
      "Epoch 109/150\n",
      "868/868 [==============================] - 1s 1ms/step - loss: 0.0240 - val_loss: 0.0246\n",
      "Epoch 110/150\n",
      "868/868 [==============================] - 1s 1ms/step - loss: 0.0237 - val_loss: 0.0301\n",
      "Epoch 111/150\n",
      "868/868 [==============================] - 1s 2ms/step - loss: 0.0331 - val_loss: 0.0272\n",
      "Epoch 112/150\n",
      "868/868 [==============================] - 1s 1ms/step - loss: 0.0212 - val_loss: 0.0277\n",
      "Epoch 113/150\n",
      "868/868 [==============================] - 1s 1ms/step - loss: 0.0196 - val_loss: 0.0270\n",
      "Epoch 114/150\n",
      "868/868 [==============================] - 1s 1ms/step - loss: 0.0219 - val_loss: 0.0347\n",
      "Epoch 115/150\n",
      "868/868 [==============================] - 1s 1ms/step - loss: 0.0214 - val_loss: 0.0278\n",
      "Epoch 116/150\n",
      "868/868 [==============================] - 1s 1ms/step - loss: 0.0233 - val_loss: 0.0273\n",
      "Epoch 117/150\n",
      "868/868 [==============================] - 1s 2ms/step - loss: 0.0182 - val_loss: 0.0250\n",
      "Epoch 118/150\n",
      "868/868 [==============================] - 1s 1ms/step - loss: 0.0211 - val_loss: 0.0348\n",
      "Epoch 119/150\n",
      "868/868 [==============================] - 1s 1ms/step - loss: 0.0174 - val_loss: 0.0235\n",
      "Epoch 120/150\n",
      "868/868 [==============================] - 1s 2ms/step - loss: 0.0235 - val_loss: 0.0249\n",
      "Epoch 121/150\n",
      "868/868 [==============================] - 1s 2ms/step - loss: 0.0181 - val_loss: 0.0267\n",
      "Epoch 122/150\n",
      "868/868 [==============================] - 1s 1ms/step - loss: 0.0198 - val_loss: 0.0257\n",
      "Epoch 123/150\n",
      "868/868 [==============================] - 1s 1ms/step - loss: 0.0211 - val_loss: 0.0375\n",
      "Epoch 124/150\n",
      "868/868 [==============================] - 1s 1ms/step - loss: 0.0225 - val_loss: 0.0267\n",
      "Epoch 125/150\n",
      "868/868 [==============================] - 1s 1ms/step - loss: 0.0180 - val_loss: 0.0257\n",
      "Epoch 126/150\n",
      "868/868 [==============================] - 1s 1ms/step - loss: 0.0199 - val_loss: 0.0235\n",
      "Epoch 127/150\n",
      "868/868 [==============================] - 1s 2ms/step - loss: 0.0182 - val_loss: 0.0237\n",
      "Epoch 128/150\n",
      "868/868 [==============================] - 1s 2ms/step - loss: 0.0209 - val_loss: 0.0234\n",
      "Epoch 129/150\n",
      "868/868 [==============================] - 1s 2ms/step - loss: 0.0168 - val_loss: 0.0257\n",
      "Epoch 130/150\n",
      "868/868 [==============================] - 1s 2ms/step - loss: 0.0233 - val_loss: 0.0317\n",
      "Epoch 131/150\n",
      "868/868 [==============================] - 1s 1ms/step - loss: 0.0207 - val_loss: 0.0275\n",
      "Epoch 132/150\n",
      "868/868 [==============================] - 1s 1ms/step - loss: 0.0194 - val_loss: 0.0445\n",
      "Epoch 133/150\n",
      "868/868 [==============================] - 1s 1ms/step - loss: 0.0190 - val_loss: 0.0270\n",
      "Epoch 134/150\n",
      "868/868 [==============================] - 1s 1ms/step - loss: 0.0227 - val_loss: 0.0310\n",
      "Epoch 135/150\n",
      "868/868 [==============================] - 1s 1ms/step - loss: 0.0205 - val_loss: 0.0224\n",
      "Epoch 136/150\n",
      "868/868 [==============================] - 1s 2ms/step - loss: 0.0213 - val_loss: 0.0283\n",
      "Epoch 137/150\n",
      "868/868 [==============================] - 1s 1ms/step - loss: 0.0207 - val_loss: 0.0446\n",
      "Epoch 138/150\n",
      "868/868 [==============================] - 1s 1ms/step - loss: 0.0255 - val_loss: 0.0279\n",
      "Epoch 139/150\n",
      "868/868 [==============================] - 1s 1ms/step - loss: 0.0231 - val_loss: 0.0285\n",
      "Epoch 140/150\n",
      "868/868 [==============================] - 1s 1ms/step - loss: 0.0218 - val_loss: 0.0241\n",
      "Epoch 141/150\n",
      "868/868 [==============================] - 1s 1ms/step - loss: 0.0215 - val_loss: 0.0289\n",
      "Epoch 142/150\n",
      "868/868 [==============================] - 1s 1ms/step - loss: 0.0230 - val_loss: 0.0295\n",
      "Epoch 143/150\n",
      "868/868 [==============================] - 1s 1ms/step - loss: 0.0234 - val_loss: 0.0264\n",
      "Epoch 144/150\n",
      "868/868 [==============================] - 1s 1ms/step - loss: 0.0218 - val_loss: 0.0385\n",
      "Epoch 145/150\n",
      "868/868 [==============================] - 1s 1ms/step - loss: 0.0313 - val_loss: 0.0309\n",
      "Epoch 146/150\n",
      "868/868 [==============================] - 1s 1ms/step - loss: 0.0196 - val_loss: 0.0216\n",
      "Epoch 147/150\n",
      "868/868 [==============================] - 1s 1ms/step - loss: 0.0171 - val_loss: 0.0247\n",
      "Epoch 148/150\n",
      "868/868 [==============================] - 1s 1ms/step - loss: 0.0182 - val_loss: 0.0301\n",
      "Epoch 149/150\n",
      "868/868 [==============================] - 1s 1ms/step - loss: 0.0149 - val_loss: 0.0337\n",
      "Epoch 150/150\n",
      "868/868 [==============================] - 1s 1ms/step - loss: 0.0169 - val_loss: 0.0210\n",
      "0.3574295747829345\n",
      "0.3634069743297884\n",
      "0.2789868494627386\n",
      "(311, 3)\n"
     ]
    }
   ],
   "source": [
    "X_train, X_test, y_train, y_test = train_test_split(clean_X, clean_y, test_size=0.20, random_state=42)\n",
    "X_train, X_val, y_train, y_val = train_test_split(X_train, y_train, test_size=0.30, random_state=42)\n",
    "       \n",
    "xgb_model = xgb.XGBRegressor(n_estimators=1000, max_depth=28, eta=0.01, subsample=1, colsample_bytree=1)\n",
    "xgb_model.fit(X_train, y_train)\n",
    "\n",
    "nn_regression_model = Sequential()\n",
    "nn_regression_model.add(Dense(2, input_dim=2))\n",
    "nn_regression_model.add(Dense(6, activation='elu'))\n",
    "nn_regression_model.add(Dense(10, activation='elu'))\n",
    "nn_regression_model.add(Dense(4, activation='elu'))\n",
    "nn_regression_model.add(Dense(3, activation='elu'))\n",
    "nn_regression_model.add(Dense(2, activation='elu'))\n",
    "nn_regression_model.add(Dense(1))\n",
    "\n",
    "optimizer = keras.optimizers.Adam(lr=0.008)\n",
    "nn_regression_model.compile(optimizer=optimizer, loss=root_mean_squared_error)\n",
    "    \n",
    "aoa_mean = np.mean(list(map(lambda x: x[0], X_train)))\n",
    "re_mean = np.mean(list(map(lambda x: x[1], X_train)))\n",
    "aoa_std = np.std(list(map(lambda x: x[0], X_train)))\n",
    "re_std = np.std(list(map(lambda x: x[1], X_train)))\n",
    "    \n",
    "normalized_X_train = normalize_input_data(X_train, aoa_mean, aoa_std, re_mean, re_std)\n",
    "normalized_X_test = normalize_input_data(X_test, aoa_mean, aoa_std, re_mean, re_std)\n",
    "normalized_X_val = normalize_input_data(X_val, aoa_mean, aoa_std, re_mean, re_std)\n",
    "    \n",
    "history = nn_regression_model.fit(normalized_X_train, y_train, epochs=150, batch_size=16, validation_data=(normalized_X_test, y_test))\n",
    "\n",
    "knn_regression_model = neighbors.KNeighborsRegressor(n_neighbors)\n",
    "knn_regression_model.fit(X_train, y_train)\n",
    "\n",
    "# inputs for the stack\n",
    "\n",
    "\n",
    "\n",
    "\n",
    "\n",
    "\n",
    "\n",
    "\n"
   ]
  },
  {
   "cell_type": "code",
   "execution_count": 344,
   "metadata": {},
   "outputs": [
    {
     "name": "stdout",
     "output_type": "stream",
     "text": [
      "(311, 1)\n",
      "(311,)\n",
      "0.031069239871655\n",
      "0.023702756422327494\n",
      "0.2106845145605217\n",
      "(311, 3)\n"
     ]
    }
   ],
   "source": [
    "xgb_inputs = xgb_model.predict(X_test).reshape(-1, 1)\n",
    "nn_inputs = nn_regression_model.predict(normalized_X_test)\n",
    "knn_inputs = knn_regression_model.predict(X_test).reshape(-1, 1)\n",
    "print(loss(xgb_inputs, y_test.reshape(-1, 1)))\n",
    "print(loss(nn_inputs, y_test.reshape(-1, 1)))\n",
    "print(loss(knn_inputs, y_test.reshape(-1,1)))\n",
    "stack_inputs = np.stack([xgb_inputs, nn_inputs, knn_inputs], axis=1)\n",
    "stack_inputs = stack_inputs.reshape(stack_inputs.shape[0], stack_inputs.shape[1])\n",
    "print(stack_inputs.shape)"
   ]
  },
  {
   "cell_type": "code",
   "execution_count": 345,
   "metadata": {},
   "outputs": [
    {
     "data": {
      "text/plain": [
       "(311, 3)"
      ]
     },
     "execution_count": 345,
     "metadata": {},
     "output_type": "execute_result"
    }
   ],
   "source": [
    "stack_inputs.shape"
   ]
  },
  {
   "cell_type": "code",
   "execution_count": 346,
   "metadata": {},
   "outputs": [
    {
     "data": {
      "text/plain": [
       "(311, 2)"
      ]
     },
     "execution_count": 346,
     "metadata": {},
     "output_type": "execute_result"
    }
   ],
   "source": [
    "X_test.shape"
   ]
  },
  {
   "cell_type": "code",
   "execution_count": 347,
   "metadata": {},
   "outputs": [
    {
     "data": {
      "text/plain": [
       "(311,)"
      ]
     },
     "execution_count": 347,
     "metadata": {},
     "output_type": "execute_result"
    }
   ],
   "source": [
    "y_test.shape"
   ]
  },
  {
   "cell_type": "code",
   "execution_count": 350,
   "metadata": {},
   "outputs": [
    {
     "name": "stdout",
     "output_type": "stream",
     "text": [
      "Epoch 1/16\n",
      "311/311 [==============================] - 6s 19ms/step - loss: 0.3551\n",
      "Epoch 2/16\n",
      "311/311 [==============================] - 0s 517us/step - loss: 0.2213\n",
      "Epoch 3/16\n",
      "311/311 [==============================] - 0s 636us/step - loss: 0.1446\n",
      "Epoch 4/16\n",
      "311/311 [==============================] - 0s 652us/step - loss: 0.0795\n",
      "Epoch 5/16\n",
      "311/311 [==============================] - 0s 445us/step - loss: 0.0564\n",
      "Epoch 6/16\n",
      "311/311 [==============================] - 0s 464us/step - loss: 0.0489\n",
      "Epoch 7/16\n",
      "311/311 [==============================] - 0s 499us/step - loss: 0.0428\n",
      "Epoch 8/16\n",
      "311/311 [==============================] - 0s 458us/step - loss: 0.0364\n",
      "Epoch 9/16\n",
      "311/311 [==============================] - 0s 480us/step - loss: 0.0314\n",
      "Epoch 10/16\n",
      "311/311 [==============================] - 0s 528us/step - loss: 0.0282\n",
      "Epoch 11/16\n",
      "311/311 [==============================] - 0s 589us/step - loss: 0.0251\n",
      "Epoch 12/16\n",
      "311/311 [==============================] - 0s 643us/step - loss: 0.0219\n",
      "Epoch 13/16\n",
      "311/311 [==============================] - 0s 479us/step - loss: 0.0228\n",
      "Epoch 14/16\n",
      "311/311 [==============================] - 0s 541us/step - loss: 0.0217\n",
      "Epoch 15/16\n",
      "311/311 [==============================] - 0s 529us/step - loss: 0.0232\n",
      "Epoch 16/16\n",
      "311/311 [==============================] - 0s 542us/step - loss: 0.0227\n",
      "[array([[ 0.3152354 ],\n",
      "       [ 0.6781693 ],\n",
      "       [-0.00992642]], dtype=float32), array([0.01959291], dtype=float32)]\n"
     ]
    }
   ],
   "source": [
    "stack_model = Sequential()\n",
    "stack_model.add(Dense(1, input_dim=3))\n",
    "stack_model.compile(optimizer=optimizer, loss=root_mean_squared_error)\n",
    "stack_model.fit(stack_inputs, y_test, epochs=16)\n",
    "\n",
    "print(stack_model.get_weights())\n",
    "\n",
    "def stacked_prediction(vals, alpha, beta, gamma, b):\n",
    "    xgb = xgb_model.predict(vals).reshape(-1, 1)\n",
    "    normalized_vals = normalize_input_data(vals, aoa_mean, aoa_std, re_mean, re_std)\n",
    "    nn = nn_regression_model.predict(normalized_vals)\n",
    "    knn = knn_regression_model.predict(vals).reshape(-1, 1)\n",
    "    si = np.stack([xgb, nn, knn], axis=1)\n",
    "    si = si.reshape(si.shape[0], si.shape[1])\n",
    "    return stack_model.predict(si) #xgb*alpha + nn * beta + knn * gamma + b"
   ]
  },
  {
   "cell_type": "code",
   "execution_count": 351,
   "metadata": {},
   "outputs": [
    {
     "name": "stdout",
     "output_type": "stream",
     "text": [
      "0.024314508109450277\n",
      "0.02321413452792897\n",
      "0.19903667186144441\n",
      "0.022582666799103118\n"
     ]
    }
   ],
   "source": [
    "xgb_inputs_2 = xgb_model.predict(X_val).reshape(-1, 1)\n",
    "nn_inputs_2 = nn_regression_model.predict(normalized_X_val)\n",
    "knn_inputs_2 = knn_regression_model.predict(X_val).reshape(-1, 1)\n",
    "print(loss(xgb_inputs_2, y_val.reshape(-1,1)))\n",
    "print(loss(nn_inputs_2, y_val.reshape(-1,1)))\n",
    "print(loss(knn_inputs_2, y_val.reshape(-1,1)))\n",
    "stack_inputs_2 = np.stack([xgb_inputs_2, nn_inputs_2, knn_inputs_2], axis=1)\n",
    "stack_inputs_2 = stack_inputs_2.reshape(stack_inputs_2.shape[0], stack_inputs_2.shape[1])\n",
    "preds = stacked_prediction(X_val, -0.22800976, 1.2080063, 0.13375686, -0.06241339)\n",
    "print(loss(preds, y_val.reshape(-1,1)))"
   ]
  },
  {
   "cell_type": "code",
   "execution_count": 340,
   "metadata": {},
   "outputs": [
    {
     "name": "stdout",
     "output_type": "stream",
     "text": [
      "[[0.8795404 ]\n",
      " [0.29397905]\n",
      " [0.62080485]\n",
      " [1.0088279 ]\n",
      " [0.7078706 ]\n",
      " [0.48235947]\n",
      " [1.0068566 ]\n",
      " [0.5640273 ]\n",
      " [0.4874475 ]\n",
      " [0.5078413 ]\n",
      " [0.23602562]\n",
      " [0.25832295]\n",
      " [0.41429827]\n",
      " [0.2289477 ]\n",
      " [0.20726658]\n",
      " [0.52951384]\n",
      " [0.72657293]\n",
      " [0.5514044 ]\n",
      " [0.5748186 ]\n",
      " [0.6686372 ]\n",
      " [0.5441317 ]\n",
      " [0.53202176]\n",
      " [0.46190107]\n",
      " [0.11743884]\n",
      " [0.43707907]\n",
      " [0.22786237]\n",
      " [1.0097048 ]\n",
      " [0.4013992 ]\n",
      " [0.2031468 ]\n",
      " [0.45602947]\n",
      " [0.53570306]\n",
      " [0.73473674]\n",
      " [0.46606913]\n",
      " [0.3751003 ]\n",
      " [0.57796645]\n",
      " [0.36348313]\n",
      " [0.99591273]\n",
      " [0.36377698]\n",
      " [0.6561077 ]\n",
      " [0.35258946]\n",
      " [0.38829863]\n",
      " [0.6019674 ]\n",
      " [0.48313534]\n",
      " [0.61239916]\n",
      " [0.44674402]\n",
      " [0.92482996]\n",
      " [0.47889677]\n",
      " [1.0064595 ]\n",
      " [0.3195101 ]\n",
      " [0.5375743 ]\n",
      " [0.21249369]\n",
      " [1.0075408 ]\n",
      " [0.3177198 ]\n",
      " [0.44849575]\n",
      " [0.47106683]\n",
      " [1.008034  ]\n",
      " [0.26765117]\n",
      " [0.76672214]\n",
      " [0.39103013]\n",
      " [0.08046985]\n",
      " [0.28167075]\n",
      " [0.6488156 ]\n",
      " [0.3859098 ]\n",
      " [0.23942031]\n",
      " [0.34323007]\n",
      " [0.5702519 ]\n",
      " [0.6307224 ]\n",
      " [0.26714775]\n",
      " [0.25725776]\n",
      " [0.48984337]\n",
      " [0.76160085]\n",
      " [0.26544762]\n",
      " [0.52896416]\n",
      " [0.57711655]\n",
      " [0.32594934]\n",
      " [0.27663162]\n",
      " [0.38956654]\n",
      " [0.70048964]\n",
      " [0.5809133 ]\n",
      " [0.54463375]\n",
      " [0.42953646]\n",
      " [0.41729623]\n",
      " [0.1826632 ]\n",
      " [0.5468927 ]\n",
      " [0.981829  ]\n",
      " [0.39819062]\n",
      " [0.13100992]\n",
      " [0.5212797 ]\n",
      " [0.599737  ]\n",
      " [0.43659776]\n",
      " [0.3141771 ]\n",
      " [0.89106804]\n",
      " [0.28601533]\n",
      " [0.3501217 ]\n",
      " [1.007982  ]\n",
      " [0.6976371 ]\n",
      " [0.30764556]\n",
      " [0.5499853 ]\n",
      " [0.57005304]\n",
      " [0.60738665]\n",
      " [0.67050713]\n",
      " [1.0076016 ]\n",
      " [0.24644119]\n",
      " [1.0063807 ]\n",
      " [0.45201772]\n",
      " [0.49385992]\n",
      " [0.59733135]\n",
      " [0.73031867]\n",
      " [0.34692279]\n",
      " [0.20178716]\n",
      " [0.35017458]\n",
      " [0.53794205]\n",
      " [0.6558286 ]\n",
      " [0.43276557]\n",
      " [0.1532227 ]\n",
      " [0.44157937]\n",
      " [0.5990073 ]\n",
      " [0.2784579 ]\n",
      " [0.64790416]\n",
      " [0.39575288]\n",
      " [0.24903297]\n",
      " [0.623304  ]\n",
      " [0.4373327 ]\n",
      " [0.505245  ]\n",
      " [0.49930495]\n",
      " [0.26931986]\n",
      " [0.60485   ]\n",
      " [0.65958804]\n",
      " [0.31725362]\n",
      " [0.5671013 ]\n",
      " [0.38812935]\n",
      " [0.37417576]\n",
      " [0.37623113]\n",
      " [0.43387014]\n",
      " [0.38965735]\n",
      " [0.7201149 ]\n",
      " [0.67784804]\n",
      " [0.8681571 ]\n",
      " [0.3434033 ]\n",
      " [0.5083218 ]\n",
      " [0.25676855]\n",
      " [0.37989354]\n",
      " [0.38706386]\n",
      " [0.40534353]\n",
      " [0.09147399]\n",
      " [0.14225653]\n",
      " [1.0072066 ]\n",
      " [1.0080746 ]\n",
      " [0.3752217 ]\n",
      " [0.2528902 ]\n",
      " [0.60442525]\n",
      " [0.36131248]\n",
      " [0.4023292 ]\n",
      " [0.52955425]\n",
      " [0.8511956 ]\n",
      " [0.4600028 ]\n",
      " [0.5845724 ]\n",
      " [1.0074464 ]\n",
      " [0.3844511 ]\n",
      " [0.13941815]\n",
      " [0.5024938 ]\n",
      " [1.0079851 ]\n",
      " [1.0074646 ]\n",
      " [0.33055282]\n",
      " [0.32156765]\n",
      " [1.0082482 ]\n",
      " [0.46373022]\n",
      " [1.0079654 ]\n",
      " [0.97667253]\n",
      " [0.7250585 ]\n",
      " [0.42113638]\n",
      " [0.70352095]\n",
      " [0.26178777]\n",
      " [0.05436822]\n",
      " [0.43199107]\n",
      " [0.9008754 ]\n",
      " [0.80563664]\n",
      " [0.3606019 ]\n",
      " [1.0038596 ]\n",
      " [0.53505284]\n",
      " [0.79064137]\n",
      " [0.22764197]\n",
      " [0.32891917]\n",
      " [0.760532  ]\n",
      " [0.51398903]\n",
      " [1.0077108 ]\n",
      " [0.28131896]\n",
      " [0.23992486]\n",
      " [0.5372228 ]\n",
      " [0.60067254]\n",
      " [0.9183584 ]\n",
      " [0.39567617]\n",
      " [0.9898303 ]\n",
      " [0.35162362]\n",
      " [0.6880221 ]\n",
      " [0.4312566 ]\n",
      " [0.5946079 ]\n",
      " [0.9029699 ]\n",
      " [0.4848239 ]\n",
      " [0.75330573]\n",
      " [0.9869969 ]\n",
      " [0.3143709 ]\n",
      " [0.42983633]\n",
      " [0.8708154 ]\n",
      " [0.39100045]\n",
      " [0.76648617]\n",
      " [0.83194137]\n",
      " [0.42836934]\n",
      " [0.27074024]\n",
      " [0.7966817 ]\n",
      " [0.63339305]\n",
      " [0.40748549]\n",
      " [1.0081213 ]\n",
      " [0.2060451 ]\n",
      " [0.6813678 ]\n",
      " [0.28254056]\n",
      " [0.29921725]\n",
      " [0.5419122 ]\n",
      " [0.347732  ]\n",
      " [1.0081758 ]\n",
      " [0.27322918]\n",
      " [0.9070172 ]\n",
      " [0.42572257]\n",
      " [1.0075872 ]\n",
      " [0.7077769 ]\n",
      " [0.52969617]\n",
      " [0.24732354]\n",
      " [0.20517418]\n",
      " [0.5240566 ]\n",
      " [0.8908127 ]\n",
      " [0.79993564]\n",
      " [0.3591787 ]\n",
      " [0.8906602 ]\n",
      " [0.34602892]\n",
      " [1.0074744 ]\n",
      " [0.93139666]\n",
      " [0.6071963 ]\n",
      " [1.0073669 ]\n",
      " [0.49974668]\n",
      " [0.32297677]\n",
      " [0.3961325 ]\n",
      " [0.23819467]\n",
      " [0.44317898]\n",
      " [0.5269646 ]\n",
      " [0.79972667]\n",
      " [0.54947346]\n",
      " [0.5619786 ]\n",
      " [0.11449963]\n",
      " [0.45531055]\n",
      " [1.009064  ]\n",
      " [0.37599954]\n",
      " [0.6813693 ]\n",
      " [0.47554407]\n",
      " [0.5983577 ]\n",
      " [0.64713985]\n",
      " [0.28548315]\n",
      " [0.7721295 ]\n",
      " [0.68615305]\n",
      " [0.7545713 ]\n",
      " [0.40112388]\n",
      " [0.6242224 ]\n",
      " [0.5617032 ]\n",
      " [0.2734243 ]\n",
      " [0.2722081 ]\n",
      " [0.5896638 ]\n",
      " [0.30889043]\n",
      " [0.370409  ]\n",
      " [0.62051743]\n",
      " [0.36650234]\n",
      " [0.45688254]\n",
      " [0.4962717 ]\n",
      " [0.24671458]\n",
      " [1.0083432 ]\n",
      " [0.24059752]\n",
      " [0.68768036]\n",
      " [0.3572654 ]\n",
      " [0.23460081]\n",
      " [1.0074544 ]\n",
      " [0.5114367 ]\n",
      " [0.4583869 ]\n",
      " [0.24546492]\n",
      " [0.56267613]\n",
      " [0.6413882 ]\n",
      " [0.5115744 ]\n",
      " [0.9951576 ]\n",
      " [1.0076069 ]\n",
      " [0.26483372]\n",
      " [0.4817828 ]\n",
      " [0.80178624]\n",
      " [0.39731312]\n",
      " [0.5656703 ]\n",
      " [0.12979773]\n",
      " [0.46433148]\n",
      " [1.0068493 ]\n",
      " [0.7242288 ]\n",
      " [0.73053753]\n",
      " [0.59929603]\n",
      " [0.16425653]\n",
      " [0.46376634]\n",
      " [0.46306527]\n",
      " [0.23449099]\n",
      " [0.9340617 ]\n",
      " [0.55449855]\n",
      " [1.0073243 ]\n",
      " [0.9944886 ]\n",
      " [0.5688526 ]\n",
      " [0.52379113]\n",
      " [0.35115215]\n",
      " [0.88741374]\n",
      " [0.8154032 ]\n",
      " [0.2554555 ]\n",
      " [0.287475  ]\n",
      " [0.2777618 ]\n",
      " [0.31295216]\n",
      " [1.0056356 ]\n",
      " [1.0083295 ]\n",
      " [0.4807902 ]\n",
      " [1.0075332 ]\n",
      " [0.339438  ]\n",
      " [1.009755  ]\n",
      " [0.38097173]\n",
      " [0.28229246]\n",
      " [0.52048534]\n",
      " [0.54768497]\n",
      " [1.0079987 ]\n",
      " [1.0080495 ]\n",
      " [0.83444303]\n",
      " [0.33063057]\n",
      " [0.87208396]\n",
      " [0.26074505]\n",
      " [0.47078696]\n",
      " [0.56664544]\n",
      " [1.0082408 ]\n",
      " [0.6584137 ]\n",
      " [0.40507513]\n",
      " [0.19425312]\n",
      " [0.32045817]\n",
      " [0.22516513]\n",
      " [0.53915626]\n",
      " [0.23226337]\n",
      " [1.0081209 ]\n",
      " [0.22904268]\n",
      " [0.66073245]\n",
      " [1.0075403 ]\n",
      " [0.5678794 ]\n",
      " [0.45173317]\n",
      " [0.6473204 ]\n",
      " [0.4602031 ]\n",
      " [0.24683958]\n",
      " [0.4195689 ]\n",
      " [0.6147703 ]\n",
      " [0.5246288 ]\n",
      " [0.2781033 ]\n",
      " [1.008535  ]\n",
      " [0.6406851 ]\n",
      " [0.520251  ]\n",
      " [0.57209474]\n",
      " [0.1400483 ]\n",
      " [1.0084256 ]\n",
      " [0.578149  ]\n",
      " [0.61266756]\n",
      " [0.16123022]\n",
      " [0.27779832]\n",
      " [0.6012687 ]\n",
      " [0.1338667 ]\n",
      " [0.46170723]\n",
      " [0.69234073]\n",
      " [0.45928842]\n",
      " [0.24113226]\n",
      " [0.3680144 ]\n",
      " [0.31814143]\n",
      " [0.4390756 ]\n",
      " [0.37272173]]\n"
     ]
    }
   ],
   "source": [
    "print(preds)"
   ]
  },
  {
   "cell_type": "code",
   "execution_count": null,
   "metadata": {},
   "outputs": [],
   "source": []
  },
  {
   "cell_type": "code",
   "execution_count": null,
   "metadata": {},
   "outputs": [],
   "source": []
  },
  {
   "cell_type": "code",
   "execution_count": null,
   "metadata": {},
   "outputs": [],
   "source": [
    "test_y.reshape(-1, 1)"
   ]
  },
  {
   "cell_type": "code",
   "execution_count": 60,
   "metadata": {},
   "outputs": [],
   "source": [
    "test_y = test_y.reshape(-1, 1)"
   ]
  },
  {
   "cell_type": "code",
   "execution_count": 511,
   "metadata": {},
   "outputs": [
    {
     "data": {
      "text/plain": [
       "(153, 1)"
      ]
     },
     "execution_count": 511,
     "metadata": {},
     "output_type": "execute_result"
    }
   ],
   "source": [
    "test_y.shape"
   ]
  },
  {
   "cell_type": "code",
   "execution_count": 512,
   "metadata": {},
   "outputs": [
    {
     "data": {
      "text/plain": [
       "(153, 2)"
      ]
     },
     "execution_count": 512,
     "metadata": {},
     "output_type": "execute_result"
    }
   ],
   "source": [
    "normalized_test_X.shape"
   ]
  },
  {
   "cell_type": "code",
   "execution_count": 456,
   "metadata": {},
   "outputs": [
    {
     "name": "stdout",
     "output_type": "stream",
     "text": [
      "153/153 [==============================] - 0s 281us/step\n"
     ]
    },
    {
     "data": {
      "text/plain": [
       "0.06630284509627647"
      ]
     },
     "execution_count": 456,
     "metadata": {},
     "output_type": "execute_result"
    }
   ],
   "source": [
    "nn_regression_model.evaluate(normalized_test_X, test_y.reshape(-1,1))"
   ]
  },
  {
   "cell_type": "code",
   "execution_count": 461,
   "metadata": {},
   "outputs": [],
   "source": [
    "nn_y_hat = nn_regression_model.predict(normalized_test_X)"
   ]
  },
  {
   "cell_type": "code",
   "execution_count": 463,
   "metadata": {},
   "outputs": [
    {
     "data": {
      "text/plain": [
       "0.06727551494522278"
      ]
     },
     "execution_count": 463,
     "metadata": {},
     "output_type": "execute_result"
    }
   ],
   "source": [
    "loss(nn_y_hat, test_y)"
   ]
  },
  {
   "cell_type": "code",
   "execution_count": 457,
   "metadata": {},
   "outputs": [
    {
     "data": {
      "text/plain": [
       "array([[0.9181886 ],\n",
       "       [0.4889084 ],\n",
       "       [0.40293854],\n",
       "       [0.34933594],\n",
       "       [0.34616268],\n",
       "       [0.54218036],\n",
       "       [0.5707635 ],\n",
       "       [0.3497627 ],\n",
       "       [0.5455651 ],\n",
       "       [0.55160445],\n",
       "       [0.45163423],\n",
       "       [0.38549358],\n",
       "       [0.34072512],\n",
       "       [0.5282803 ],\n",
       "       [0.9251765 ],\n",
       "       [0.6669915 ],\n",
       "       [0.5185026 ],\n",
       "       [0.7306971 ],\n",
       "       [0.3516066 ],\n",
       "       [0.6372754 ],\n",
       "       [0.5703931 ],\n",
       "       [0.3572819 ],\n",
       "       [0.45676988],\n",
       "       [0.8949043 ],\n",
       "       [0.5969509 ],\n",
       "       [0.8557297 ],\n",
       "       [0.87802076],\n",
       "       [0.84403384],\n",
       "       [0.3618564 ],\n",
       "       [0.34706113],\n",
       "       [0.76304454],\n",
       "       [0.56673867],\n",
       "       [0.9201263 ],\n",
       "       [0.6461513 ],\n",
       "       [0.33590412],\n",
       "       [0.28490636],\n",
       "       [0.6472716 ],\n",
       "       [0.37886798],\n",
       "       [0.35626847],\n",
       "       [0.45383823],\n",
       "       [0.9253788 ],\n",
       "       [0.5280848 ],\n",
       "       [0.5366023 ],\n",
       "       [0.5522563 ],\n",
       "       [0.37928438],\n",
       "       [0.86925447],\n",
       "       [0.5420133 ],\n",
       "       [0.5137001 ],\n",
       "       [0.8781477 ],\n",
       "       [0.73985595],\n",
       "       [0.53474087],\n",
       "       [0.4570595 ],\n",
       "       [0.33304507],\n",
       "       [0.5561242 ],\n",
       "       [0.41019624],\n",
       "       [0.83778375],\n",
       "       [0.875466  ],\n",
       "       [0.8656571 ],\n",
       "       [0.7558028 ],\n",
       "       [0.4040668 ],\n",
       "       [0.5875224 ],\n",
       "       [0.38574448],\n",
       "       [0.76158977],\n",
       "       [0.7257383 ],\n",
       "       [0.3330825 ],\n",
       "       [0.90874463],\n",
       "       [0.43803176],\n",
       "       [0.5307543 ],\n",
       "       [0.59935915],\n",
       "       [0.89652526],\n",
       "       [0.9259459 ],\n",
       "       [0.34248903],\n",
       "       [0.40671015],\n",
       "       [0.9389847 ],\n",
       "       [0.80122066],\n",
       "       [0.8350053 ],\n",
       "       [0.3947278 ],\n",
       "       [0.49977267],\n",
       "       [0.54823625],\n",
       "       [0.65572834],\n",
       "       [0.34245256],\n",
       "       [0.39277148],\n",
       "       [0.38930827],\n",
       "       [0.36799827],\n",
       "       [0.6124464 ],\n",
       "       [0.9497646 ],\n",
       "       [0.93450695],\n",
       "       [0.643936  ],\n",
       "       [0.47232676],\n",
       "       [0.39418107],\n",
       "       [0.5844767 ],\n",
       "       [0.60575116],\n",
       "       [0.82553625],\n",
       "       [0.8899436 ],\n",
       "       [0.5086888 ],\n",
       "       [0.6216118 ],\n",
       "       [0.5464318 ],\n",
       "       [0.6121986 ],\n",
       "       [0.8270196 ],\n",
       "       [0.44448763],\n",
       "       [0.9603343 ],\n",
       "       [0.53433055],\n",
       "       [0.4521414 ],\n",
       "       [0.47807515],\n",
       "       [0.5952146 ],\n",
       "       [0.5309831 ],\n",
       "       [0.46214086],\n",
       "       [0.6194524 ],\n",
       "       [0.5426514 ],\n",
       "       [0.55043703],\n",
       "       [0.44886968],\n",
       "       [0.5247203 ],\n",
       "       [0.39007515],\n",
       "       [0.83871347],\n",
       "       [0.3522155 ],\n",
       "       [0.926267  ],\n",
       "       [0.3446317 ],\n",
       "       [0.3852017 ],\n",
       "       [0.34215495],\n",
       "       [0.9510232 ],\n",
       "       [0.604204  ],\n",
       "       [0.41728282],\n",
       "       [0.4008258 ],\n",
       "       [0.9313395 ],\n",
       "       [0.8460411 ],\n",
       "       [0.62804234],\n",
       "       [0.38431078],\n",
       "       [0.5438682 ],\n",
       "       [0.3753243 ],\n",
       "       [0.3656927 ],\n",
       "       [0.4152683 ],\n",
       "       [0.9043596 ],\n",
       "       [0.35119337],\n",
       "       [0.8240112 ],\n",
       "       [0.38997102],\n",
       "       [0.8748884 ],\n",
       "       [0.3700157 ],\n",
       "       [0.51805645],\n",
       "       [0.6195308 ],\n",
       "       [0.36344203],\n",
       "       [0.56530863],\n",
       "       [0.94674784],\n",
       "       [0.7180985 ],\n",
       "       [0.59935033],\n",
       "       [0.47233444],\n",
       "       [0.52508515],\n",
       "       [0.6208271 ],\n",
       "       [0.37570545],\n",
       "       [0.5607539 ],\n",
       "       [0.6460139 ],\n",
       "       [0.6848361 ],\n",
       "       [0.3850497 ],\n",
       "       [0.41025543]], dtype=float32)"
      ]
     },
     "execution_count": 457,
     "metadata": {},
     "output_type": "execute_result"
    }
   ],
   "source": [
    "nn_y_hat"
   ]
  },
  {
   "cell_type": "code",
   "execution_count": 440,
   "metadata": {},
   "outputs": [
    {
     "data": {
      "text/plain": [
       "array([1.        , 0.54501689, 0.38713097, 0.23685368, 0.23304827,\n",
       "       0.60410395, 0.615605  , 0.25297941, 0.59797714, 0.6343405 ,\n",
       "       0.41472641, 0.33223349, 0.22611083, 0.52731679, 1.        ,\n",
       "       0.74009685, 0.5640435 , 0.68522499, 0.27483291, 0.650858  ,\n",
       "       0.63817012, 0.25722573, 0.45470381, 1.        , 0.5016529 ,\n",
       "       1.        , 1.        , 0.84079054, 0.29393561, 0.2496301 ,\n",
       "       0.5972936 , 0.60631116, 1.        , 0.71955657, 0.2550733 ,\n",
       "       0.09032166, 0.72371185, 0.32371489, 0.28788385, 0.42753973,\n",
       "       1.        , 0.57934162, 0.57250998, 0.57015607, 0.31692867,\n",
       "       0.89726727, 0.52487198, 0.58132868, 1.        , 0.73579722,\n",
       "       0.51440307, 0.48622842, 0.20234911, 0.64070695, 0.36813709,\n",
       "       1.        , 0.84205488, 0.80628092, 0.75309539, 0.38045717,\n",
       "       0.54387047, 0.35263237, 0.74612017, 0.5685466 , 0.29554906,\n",
       "       0.89643737, 0.4036875 , 0.52956348, 0.60574341, 1.        ,\n",
       "       1.        , 0.24933331, 0.35392972, 1.        , 0.64081   ,\n",
       "       0.79171236, 0.37604187, 0.53154483, 0.52834872, 0.72205477,\n",
       "       0.23876834, 0.33100386, 0.35131086, 0.3008485 , 0.61475617,\n",
       "       1.        , 1.        , 0.69986767, 0.43158196, 0.36004526,\n",
       "       0.65484001, 0.63531398, 0.84858951, 0.83687479, 0.55098507,\n",
       "       0.64496134, 0.51613375, 0.61359421, 0.82925735, 0.41281873,\n",
       "       1.        , 0.57860662, 0.44904962, 0.43667527, 0.63971849,\n",
       "       0.45264754, 0.45054729, 0.63628917, 0.54053405, 0.58169643,\n",
       "       0.47314315, 0.52062164, 0.32681641, 0.8244495 , 0.24429668,\n",
       "       1.        , 0.24385833, 0.31558062, 0.24660636, 1.        ,\n",
       "       0.61686368, 0.37158665, 0.35997957, 1.        , 0.79653997,\n",
       "       0.68558803, 0.31558621, 0.62146089, 0.31013542, 0.27692128,\n",
       "       0.37477228, 0.84213345, 0.26209851, 0.75030767, 0.33626602,\n",
       "       0.86922868, 0.28769634, 0.55004782, 0.65454245, 0.28112516,\n",
       "       0.62606936, 1.        , 0.78249794, 0.63739365, 0.50501818,\n",
       "       0.53491464, 0.65192079, 0.3109666 , 0.63912607, 0.69439668,\n",
       "       0.73569111, 0.32279005, 0.35944655])"
      ]
     },
     "execution_count": 440,
     "metadata": {},
     "output_type": "execute_result"
    }
   ],
   "source": [
    "test_y"
   ]
  },
  {
   "cell_type": "code",
   "execution_count": 492,
   "metadata": {},
   "outputs": [
    {
     "data": {
      "text/plain": [
       "0.06727551494522278"
      ]
     },
     "execution_count": 492,
     "metadata": {},
     "output_type": "execute_result"
    }
   ],
   "source": [
    "loss(nn_y_hat, test_y)"
   ]
  },
  {
   "cell_type": "code",
   "execution_count": null,
   "metadata": {},
   "outputs": [],
   "source": []
  },
  {
   "cell_type": "code",
   "execution_count": 52,
   "metadata": {},
   "outputs": [],
   "source": [
    "###############  Finally, a K-Nearest Neighbor model"
   ]
  },
  {
   "cell_type": "code",
   "execution_count": 99,
   "metadata": {},
   "outputs": [
    {
     "data": {
      "text/plain": [
       "KNeighborsRegressor(n_neighbors=2)"
      ]
     },
     "execution_count": 99,
     "metadata": {},
     "output_type": "execute_result"
    }
   ],
   "source": [
    "from sklearn import neighbors\n",
    "\n",
    "n_neighbors = 2\n",
    "\n",
    "\n",
    "knn_regression_model = neighbors.KNeighborsRegressor(n_neighbors)\n",
    "knn_regression_model.fit(train_X, train_y)"
   ]
  },
  {
   "cell_type": "code",
   "execution_count": 100,
   "metadata": {},
   "outputs": [],
   "source": [
    "knn_y_hat = (knn_regression_model.predict(test_X)).reshape(-1, 1)"
   ]
  },
  {
   "cell_type": "code",
   "execution_count": 101,
   "metadata": {},
   "outputs": [
    {
     "data": {
      "text/plain": [
       "(238, 1)"
      ]
     },
     "execution_count": 101,
     "metadata": {},
     "output_type": "execute_result"
    }
   ],
   "source": [
    "knn_y_hat.shape"
   ]
  },
  {
   "cell_type": "code",
   "execution_count": 102,
   "metadata": {},
   "outputs": [],
   "source": [
    "test_y = test_y.reshape(-1,1)"
   ]
  },
  {
   "cell_type": "code",
   "execution_count": 103,
   "metadata": {},
   "outputs": [
    {
     "data": {
      "text/plain": [
       "(238, 1)"
      ]
     },
     "execution_count": 103,
     "metadata": {},
     "output_type": "execute_result"
    }
   ],
   "source": [
    "test_y.shape"
   ]
  },
  {
   "cell_type": "code",
   "execution_count": 104,
   "metadata": {},
   "outputs": [
    {
     "data": {
      "text/plain": [
       "0.09291696394388589"
      ]
     },
     "execution_count": 104,
     "metadata": {},
     "output_type": "execute_result"
    }
   ],
   "source": [
    "loss(knn_y_hat, test_y)"
   ]
  },
  {
   "cell_type": "code",
   "execution_count": 209,
   "metadata": {},
   "outputs": [],
   "source": [
    "\n"
   ]
  },
  {
   "cell_type": "code",
   "execution_count": null,
   "metadata": {},
   "outputs": [],
   "source": []
  },
  {
   "cell_type": "code",
   "execution_count": 208,
   "metadata": {},
   "outputs": [
    {
     "data": {
      "text/plain": [
       "0.037152345517145136"
      ]
     },
     "execution_count": 208,
     "metadata": {},
     "output_type": "execute_result"
    }
   ],
   "source": [
    "loss(y_hat_boosted, test_y)"
   ]
  },
  {
   "cell_type": "code",
   "execution_count": 210,
   "metadata": {},
   "outputs": [
    {
     "data": {
      "text/plain": [
       "0.2376277390736039"
      ]
     },
     "execution_count": 210,
     "metadata": {},
     "output_type": "execute_result"
    }
   ],
   "source": [
    "loss(nn_y_hat_boosted, test_y)"
   ]
  },
  {
   "cell_type": "code",
   "execution_count": 211,
   "metadata": {},
   "outputs": [
    {
     "data": {
      "text/plain": [
       "0.1811940116657541"
      ]
     },
     "execution_count": 211,
     "metadata": {},
     "output_type": "execute_result"
    }
   ],
   "source": [
    "loss(knn_y_hat_boosted, test_y)"
   ]
  },
  {
   "cell_type": "code",
   "execution_count": 212,
   "metadata": {},
   "outputs": [
    {
     "name": "stdout",
     "output_type": "stream",
     "text": [
      "Boost improvement: 12.051220657383295 %\n"
     ]
    }
   ],
   "source": []
  },
  {
   "cell_type": "code",
   "execution_count": null,
   "metadata": {},
   "outputs": [],
   "source": []
  },
  {
   "cell_type": "code",
   "execution_count": 262,
   "metadata": {},
   "outputs": [],
   "source": [
    "######## Stacking"
   ]
  },
  {
   "cell_type": "code",
   "execution_count": 284,
   "metadata": {},
   "outputs": [],
   "source": [
    "# input for the next level in the stack is original input data + predictions for the three models = 5-d vectors\n",
    "\n",
    "len(train_X_1)\n",
    "xgb_preds_1 = xgb_model.predict(train_X_1)\n",
    "nn_preds_1 = np.array(list(map(lambda x: x[0], nn_regression_model.predict(train_X_1))))\n",
    "knn_preds_1 = knn_regression_model.predict(train_X_1)\n",
    "feats_1_1 = np.array(list(map(lambda x: x[0], train_X_1)))\n",
    "feats_2_1 = np.array(list(map(lambda x: x[1], train_X_1)))\n",
    "train_X_stack = np.array(list(zip(feats_1_1, feats_2_1, xgb_preds_1, nn_preds_1, knn_preds_1)))\n",
    "train_y_stack = train_y_1"
   ]
  },
  {
   "cell_type": "code",
   "execution_count": 283,
   "metadata": {},
   "outputs": [
    {
     "data": {
      "text/plain": [
       "array([5.23978103e+00, 7.73287260e+02, 5.57805061e-01, 5.56716084e-01,\n",
       "       5.52981116e-01])"
      ]
     },
     "execution_count": 283,
     "metadata": {},
     "output_type": "execute_result"
    }
   ],
   "source": [
    "train_X_stack[2]"
   ]
  },
  {
   "cell_type": "code",
   "execution_count": 285,
   "metadata": {},
   "outputs": [
    {
     "data": {
      "text/plain": [
       "0.5592971078305247"
      ]
     },
     "execution_count": 285,
     "metadata": {},
     "output_type": "execute_result"
    }
   ],
   "source": [
    "train_y_1[2]"
   ]
  },
  {
   "cell_type": "code",
   "execution_count": 287,
   "metadata": {},
   "outputs": [],
   "source": [
    "stacked_model = xgb.XGBRegressor(n_estimators=1000, max_depth=12, eta=0.1, subsample=1, colsample_bytree=1)"
   ]
  },
  {
   "cell_type": "code",
   "execution_count": 288,
   "metadata": {},
   "outputs": [
    {
     "name": "stdout",
     "output_type": "stream",
     "text": [
      "[13:24:40] WARNING: /workspace/src/objective/regression_obj.cu:152: reg:linear is now deprecated in favor of reg:squarederror.\n"
     ]
    },
    {
     "data": {
      "text/plain": [
       "XGBRegressor(eta=0.1, max_depth=12, n_estimators=1000)"
      ]
     },
     "execution_count": 288,
     "metadata": {},
     "output_type": "execute_result"
    }
   ],
   "source": [
    "stacked_model.fit(train_X_stack, train_y_stack)"
   ]
  },
  {
   "cell_type": "code",
   "execution_count": null,
   "metadata": {},
   "outputs": [],
   "source": [
    "# Test stack performance"
   ]
  },
  {
   "cell_type": "code",
   "execution_count": 290,
   "metadata": {},
   "outputs": [],
   "source": [
    "xgb_test = xgb_model.predict(test_X)\n",
    "nn_test = np.array(list(map(lambda x: x[0], nn_regression_model.predict(test_X))))\n",
    "knn_test = knn_regression_model.predict(test_X)\n",
    "feats_1_test = np.array(list(map(lambda x: x[0], test_X)))\n",
    "feats_2_test = np.array(list(map(lambda x: x[1], test_X)))\n",
    "test_X_stack = np.array(list(zip(feats_1_test, feats_2_test, xgb_test, nn_test, knn_test)))\n",
    "test_y_stack = test_y"
   ]
  },
  {
   "cell_type": "code",
   "execution_count": 291,
   "metadata": {},
   "outputs": [],
   "source": [
    "y_hat_stack = stacked_model.predict(test_X_stack)"
   ]
  },
  {
   "cell_type": "code",
   "execution_count": 292,
   "metadata": {},
   "outputs": [
    {
     "data": {
      "text/plain": [
       "0.03840394324141504"
      ]
     },
     "execution_count": 292,
     "metadata": {},
     "output_type": "execute_result"
    }
   ],
   "source": [
    "loss(y_hat_stack, test_y)"
   ]
  },
  {
   "cell_type": "code",
   "execution_count": null,
   "metadata": {},
   "outputs": [],
   "source": []
  },
  {
   "cell_type": "code",
   "execution_count": null,
   "metadata": {},
   "outputs": [],
   "source": []
  },
  {
   "cell_type": "code",
   "execution_count": 43,
   "metadata": {},
   "outputs": [],
   "source": [
    "def predict_sep_points(aoa, re, mc, mcp, thick):\n",
    "    x_in = pd.DataFrame(data=[[aoa, re, mc, mcp, thick]], columns=['aoa', 'Re', 'mc', 'mcp', 'th'])\n",
    "    y_hat = model_u.predict(x_in)[0]\n",
    "    separates = classify_model.predict(x_in)[0]\n",
    "    return ((y_hat-1)*separates)+1"
   ]
  },
  {
   "cell_type": "code",
   "execution_count": 48,
   "metadata": {},
   "outputs": [
    {
     "data": {
      "text/plain": [
       "0.00446850061416626"
      ]
     },
     "execution_count": 48,
     "metadata": {},
     "output_type": "execute_result"
    }
   ],
   "source": [
    "predict_sep_points(8, 6000000, 4.5, 60, 26)"
   ]
  },
  {
   "cell_type": "code",
   "execution_count": 29,
   "metadata": {},
   "outputs": [
    {
     "data": {
      "text/plain": [
       "array([   4, 3000,   10,   15,   30])"
      ]
     },
     "execution_count": 29,
     "metadata": {},
     "output_type": "execute_result"
    }
   ],
   "source": [
    "np.array([4, 3000, 10, 15, 30])"
   ]
  },
  {
   "cell_type": "code",
   "execution_count": 31,
   "metadata": {},
   "outputs": [],
   "source": [
    "a = np.array([np.array([4, 3000, 10, 15, 30])])"
   ]
  },
  {
   "cell_type": "code",
   "execution_count": 37,
   "metadata": {},
   "outputs": [],
   "source": [
    "a = pd.DataFrame(data=[[4, 3000, 10, 15, 30]], columns=['aoa', 'Re', 'mc', 'mcp', 'th'])"
   ]
  },
  {
   "cell_type": "code",
   "execution_count": 38,
   "metadata": {},
   "outputs": [
    {
     "data": {
      "text/plain": [
       "array([0.22209579], dtype=float32)"
      ]
     },
     "execution_count": 38,
     "metadata": {},
     "output_type": "execute_result"
    }
   ],
   "source": [
    "model_u.predict(a)"
   ]
  },
  {
   "cell_type": "code",
   "execution_count": null,
   "metadata": {},
   "outputs": [],
   "source": []
  }
 ],
 "metadata": {
  "kernelspec": {
   "display_name": "Python 3",
   "language": "python",
   "name": "python3"
  },
  "language_info": {
   "codemirror_mode": {
    "name": "ipython",
    "version": 3
   },
   "file_extension": ".py",
   "mimetype": "text/x-python",
   "name": "python",
   "nbconvert_exporter": "python",
   "pygments_lexer": "ipython3",
   "version": "3.6.9"
  }
 },
 "nbformat": 4,
 "nbformat_minor": 4
}
